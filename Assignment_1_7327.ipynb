{
 "cells": [
  {
   "cell_type": "markdown",
   "metadata": {
    "id": "AKoVenVVgFfe"
   },
   "source": [
    "## COMP SCI 7327 Concepts in Artificial Intelligence and Machine Learning -- Assignment 1\n",
    "\n"
   ]
  },
  {
   "cell_type": "markdown",
   "metadata": {
    "id": "kYzOUGXEgu_K"
   },
   "source": [
    "# Task 1： Explain the basic concepts (5 marks)\n",
    "\n",
    "1. ROC curve is a graphical plot that illustrates the diagnostic ability of a binary classifier system as its discrimination threshold is varied. Please explain how the ROC curve works in the binary classification (1 mark).\n",
    "\n",
    "2. Please describe what is cross-entropy and under what circumstances cross-entropy can be used (2 marks)?\n",
    "\n",
    "4. Please explain what are the similarities and differences of L1 loss and MSE loss in K-Nearest Neighbor training (2 marks)?\n",
    "\n"
   ]
  },
  {
   "cell_type": "markdown",
   "metadata": {},
   "source": [
    "1. ROC curves show the trade off between false-positives and false-negatives of a classification model as a function of varying the discrimination threshold.\n",
    "2. Cross entropy. Surprise is the inverse of probability. Surprise is the log inverse of the probability of an event. Entropy is the expected value of the surprise.\n",
    "3. L1 loss and MSE loss"
   ]
  },
  {
   "cell_type": "markdown",
   "metadata": {
    "id": "esyKtc4Sl0on"
   },
   "source": [
    "# Task 2 ：Python programming (8 marks)\n",
    "\n",
    "1. Given a list of numbers: num=[1, 2, 3, 4, 5, 6, 7, 8, 9, 10, 11, 12, 13, 14, 15], write python code that finds all odd numbers in a list and returns a new list that contains all the odd numbers (2 marks)."
   ]
  },
  {
   "cell_type": "code",
   "execution_count": 21,
   "metadata": {},
   "outputs": [],
   "source": [
    "def print_odd_num(numbers):\n",
    "    odd_numbers = [num for num in numbers if num % 2 > 0]\n",
    "    return odd_numbers"
   ]
  },
  {
   "cell_type": "markdown",
   "metadata": {
    "id": "xtRQVLwFl-Tn"
   },
   "source": [
    "2. The “carry” means if the summation of one digital position is greater than 10, an another 1 will be added to the next position. Please write python code to count the number of the “carry” operations. For example, 123+456 has no \"carry\" as neither of 3+6，2+5, 1+4 is greater than 10. Some other examples are as below (3 marks):\n",
    "\n",
    "> **Example 1:**\n",
    "\n",
    "> Input: \n",
    "> 123+456\n",
    "\n",
    "> Output:\n",
    "> No carry operation.\n",
    "\n",
    "> **Example 2:**\n",
    "\n",
    "> Input: \n",
    "> 555+555\n",
    "\n",
    "> Output:\n",
    "> 3 carry operations.\n",
    "\n",
    "> **Example 3:**\n",
    "\n",
    "> Input: \n",
    "> 123+594\n",
    "\n",
    "> Output:\n",
    "> 1 carry operation.\n"
   ]
  },
  {
   "cell_type": "code",
   "execution_count": 1,
   "metadata": {},
   "outputs": [],
   "source": [
    "def countCarries(number_a: int, number_b: int) -> int:\n",
    "    \"\"\"Count the carries.\n",
    "    \n",
    "    Args:\n",
    "        number_a (int) \n",
    "        number_b (int) \n",
    "    Returns:\n",
    "        num_carries (int)\n",
    "\n",
    "    Assumptions:\n",
    "    1. Addition only.\n",
    "    2. Negative numbers excluded.\n",
    "    \"\"\"\n",
    "    num_carries = 0\n",
    "    number_c = number_a + number_b\n",
    "\n",
    "    digits_a = [int(a) for a in str(abs(number_a))]\n",
    "    digits_b = [int(b) for b in str(abs(number_b))]\n",
    "    digits_c = [int(c) for c in str(abs(number_c))]\n",
    "\n",
    "    digits_a.reverse()\n",
    "    digits_b.reverse()\n",
    "    digits_c.reverse()\n",
    "\n",
    "    num_least_digits = min(len(digits_a), len(digits_b))\n",
    "\n",
    "    for i in range(num_least_digits):\n",
    "        if digits_c[i] < digits_b[i] + digits_a[i]:\n",
    "            num_carries += 1\n",
    "\n",
    "    return num_carries"
   ]
  },
  {
   "cell_type": "markdown",
   "metadata": {
    "id": "FNo6I-vMmFRR"
   },
   "source": [
    "3. Roman numerals are represented by seven different symbols: I (=1) , V (=5), X(=10), L (=50), C(=100), D (=500) and M(=1000). For example, 2 is written as 'II' in Roman numeral, just two 'I' added together. The number 27 is written as XXVII, which is XX + V + II. Your task is to write a Python code that recognizes the roman numbers. The input and output should be in the format as shown below (3 marks):\n",
    "\n",
    ">**Example 1:**\n",
    "\n",
    ">Input: s = \"III\"\n",
    "\n",
    ">Output: 3\n",
    "\n",
    ">**Example 2:**\n",
    "\n",
    ">Input: s = \"LVIII\"\n",
    "\n",
    ">Output: 58\n",
    "\n",
    ">**Example 3:**\n",
    "\n",
    ">Input: s = \"MCMXCIV\"\n",
    "\n",
    ">Output: 1994\n"
   ]
  },
  {
   "cell_type": "code",
   "execution_count": 1,
   "metadata": {},
   "outputs": [],
   "source": [
    "import math\n",
    "\n",
    "\n",
    "def convert_to_numbers(roman_string: str) -> int:\n",
    "    \"\"\"Convert roman numerals to numbers.\n",
    "\n",
    "    Args:\n",
    "        roman_string (string) \n",
    "\n",
    "    Returns:\n",
    "        number (int)\n",
    "    \"\"\"\n",
    "    rome2num = {'I': 1, 'V': 5, 'X': 10,\n",
    "                'L': 50, 'C': 100, 'D': 500, 'M': 1000}\n",
    "    sum = 0\n",
    "    previous_num = math.inf\n",
    "\n",
    "    for index, char in enumerate(roman_string):\n",
    "        current_num = rome2num[char]\n",
    "        if previous_num < current_num:\n",
    "            sum -= 2*previous_num\n",
    "            sum += current_num\n",
    "        else:\n",
    "            sum += current_num\n",
    "            previous_num = current_num\n",
    "\n",
    "    return sum\n"
   ]
  },
  {
   "cell_type": "markdown",
   "metadata": {
    "id": "TjTd8XaYnFLb"
   },
   "source": [
    "# Task 3 : Algorithm Programming (7 marks)\n",
    "\n",
    "1. Download the MNIST dataset and split the dataset into a training set (70% of the data), validation set (10% of the data) and testing set (20% of the data) (1 Mark).\n",
    "\n",
    "2. Build a classifier with three convolutional layers with pyTorch 1.2.0 (cpu version) (2 Marks).\n",
    "\n",
    "3. Successfully train the classifier and record the accuracy on the testing set. Please note that you will need to use all the three subsets you got in 1. (2 Marks).\n",
    "4. Please draw the loss curves and accuracy curves for both the training and validation set. You have to use Matplotlib to draw the figure.(2 Marks).\n",
    "\n",
    "\n",
    "\n",
    "\n",
    "\n",
    "\n"
   ]
  },
  {
   "cell_type": "code",
   "execution_count": 15,
   "metadata": {},
   "outputs": [],
   "source": [
    "from sklearn import datasets, svm, metrics\n",
    "from sklearn.model_selection import train_test_split\n",
    "\n",
    "# Get MNIST via sklearn\n",
    "X, y = datasets.fetch_openml(\"mnist_784\", version=1, return_X_y=True, as_frame=False)\n",
    "# X is the data set and y are its labels. If return_X_y=False, then type is sklearn 'Bunch', an extension of dictionaries.\n",
    "\n",
    "# Split the data\n",
    "X_train, X_delta, y_train, y_delta = train_test_split(X, y, train_size= 0.7, test_size=0.3)\n",
    "X_validation, X_test, y_validation, y_test = train_test_split(X_delta, y_delta, train_size= 1/3, test_size=2/3)\n",
    "\n",
    "# Demonstrate that the dataset has been split: 70% training, 10% validation, 20% training\n",
    "print(f'validation_set: {len(X_validation)}, test_set: {len(X_test)}, training_set: {len(X_train)}')\n",
    "print(f'validation_set: {len(X_validation)/len(X)}, test_set: {len(X_test)/len(X)}, training_set: {len(X_train)/len(X)}')"
   ]
  },
  {
   "cell_type": "code",
   "execution_count": 31,
   "metadata": {},
   "outputs": [
    {
     "name": "stdout",
     "output_type": "stream",
     "text": [
      "There is now 70000 data instances in all_data.\n",
      "There is now 49000 data instances in train_data_resliced (70% of all_data).\n",
      "There is now 14000 data instances in test_data_resliced (20% of all_data).\n",
      "There is now 7000 data instances in validation_data (10% of all_data).\n"
     ]
    }
   ],
   "source": [
    "import torch\n",
    "from torch.utils.data import DataLoader\n",
    "from torchvision.transforms import ToTensor\n",
    "from torchvision import datasets\n",
    "\n",
    "train_data = datasets.MNIST(\n",
    "    root = 'data',\n",
    "    train = True,                         \n",
    "    transform = ToTensor(), \n",
    "    download = True,            \n",
    ")\n",
    "test_data = datasets.MNIST(\n",
    "    root = 'data', \n",
    "    train = False, \n",
    "    transform = ToTensor()\n",
    ")\n",
    "\n",
    "# Concatenate MNIST training and test set\n",
    "all_data = torch.utils.data.ConcatDataset([train_data, test_data])\n",
    "print(f'There is now {len(all_data)} data instances in all_data.')\n",
    "\n",
    "# Recut all_data: 70% training, 20% test, 10% validation.\n",
    "# Lesson leartn: can't naively slice pytorch data class. Use Subset method.\n",
    "idx_train = int(len(all_data)*0.7)\n",
    "idx_test = idx_train + int(len(all_data)*0.2)\n",
    "idx_validation = len(all_data)\n",
    "\n",
    "train_indices = list(range(0, idx_train))\n",
    "train_data_resliced = torch.utils.data.Subset(all_data, train_indices)\n",
    "print(f'There is now {len(train_data_resliced)} data instances in train_data_resliced (70% of all_data).')\n",
    "\n",
    "test_indices = list(range(idx_train, idx_test))\n",
    "test_data_resliced = torch.utils.data.Subset(all_data, test_indices)\n",
    "print(f'There is now {len(test_data_resliced)} data instances in test_data_resliced (20% of all_data).')\n",
    "\n",
    "validation_indices = list(range(idx_test, idx_validation))\n",
    "validation_data = torch.utils.data.Subset(all_data, validation_indices)\n",
    "print(f'There is now {len(validation_data)} data instances in validation_data (10% of all_data).')"
   ]
  },
  {
   "cell_type": "code",
   "execution_count": 63,
   "metadata": {},
   "outputs": [
    {
     "data": {
      "text/plain": [
       "<matplotlib.image.AxesImage at 0x1e72c7d6a48>"
      ]
     },
     "execution_count": 63,
     "metadata": {},
     "output_type": "execute_result"
    },
    {
     "data": {
      "image/png": "[encoded data removed]",
      "text/plain": [
       "<Figure size 432x288 with 1 Axes>"
      ]
     },
     "metadata": {
      "needs_background": "light"
     },
     "output_type": "display_data"
    }
   ],
   "source": [
    "# Plot an instance of the data\n",
    "plt.imshow(train_data[5][0][0], cmap='gray')"
   ]
  },
  {
   "cell_type": "code",
   "execution_count": 114,
   "metadata": {},
   "outputs": [
    {
     "name": "stdout",
     "output_type": "stream",
     "text": [
      "Using cpu device\n"
     ]
    }
   ],
   "source": [
    "from torch import nn\n",
    "\n",
    "# Get cpu or gpu device for training.\n",
    "device = \"cuda\" if torch.cuda.is_available() else \"cpu\"\n",
    "print(f\"Using {device} device\")\n",
    "\n",
    "# Define models\n",
    "class NeuralNetworkLinear(nn.Module):\n",
    "    def __init__(self):\n",
    "        super(NeuralNetworkLinear, self).__init__()\n",
    "        self.flatten = nn.Flatten() # converts 2D arrays into one contiguous array.\n",
    "        self.linear_relu_stack = nn.Sequential( \n",
    "            nn.Linear(28*28, 64), # args for CNN: input channels, output channels, kernel_size\n",
    "            nn.ReLU(), # an activation layer that introduces non-linearities to the linear model\n",
    "            nn.Linear(64, 64),\n",
    "            nn.ReLU(),\n",
    "            nn.Linear(64, 10)\n",
    "        )\n",
    "\n",
    "    def forward(self, x):\n",
    "        x = self.flatten(x)\n",
    "        logits = self.linear_relu_stack(x)\n",
    "        return logits\n",
    "\n",
    "\n",
    "def create_CNN_model():\n",
    "    model.model = nn.Sequential(\n",
    "\n",
    "        nn.Conv2d(1, 6, 5, padding=2),\n",
    "        nn.ReLU(),\n",
    "        nn.MaxPool2d(2, stride=2),\n",
    "\n",
    "        nn.Conv2d(6, 16, 5, padding=2),\n",
    "        nn.ReLU(),\n",
    "        nn.MaxPool2d(2, stride=2),\n",
    "\n",
    "        nn.Conv2d(6, 16, 5, padding=2),\n",
    "        nn.ReLU(),\n",
    "        nn.MaxPool2d(2, stride=2),\n",
    "\n",
    "        nn.Flatten(),\n",
    "        nn.Linear(400, 120),\n",
    "        nn.ReLU(),\n",
    "        nn.Linear(120, 84),\n",
    "        nn.ReLU(),\n",
    "        nn.Linear(84, 10)\n",
    "    )\n",
    "    return model"
   ]
  },
  {
   "cell_type": "code",
   "execution_count": 115,
   "metadata": {},
   "outputs": [],
   "source": [
    "# Load data into Pytorch loader\n",
    "train_loader = DataLoader(train_data_resliced, batch_size=32)\n",
    "validation_loader = DataLoader(validation_data, batch_size=32)\n",
    "test_loader = DataLoader(test_data_resliced, batch_size=32)"
   ]
  },
  {
   "cell_type": "code",
   "execution_count": 116,
   "metadata": {},
   "outputs": [
    {
     "name": "stdout",
     "output_type": "stream",
     "text": [
      "NeuralNetworkLinear(\n",
      "  (flatten): Flatten()\n",
      "  (linear_relu_stack): Sequential(\n",
      "    (0): Linear(in_features=784, out_features=64, bias=True)\n",
      "    (1): ReLU()\n",
      "    (2): Linear(in_features=64, out_features=64, bias=True)\n",
      "    (3): ReLU()\n",
      "    (4): Linear(in_features=64, out_features=10, bias=True)\n",
      "  )\n",
      "  (model): Sequential(\n",
      "    (0): Conv2d(1, 6, kernel_size=(5, 5), stride=(1, 1), padding=(2, 2))\n",
      "    (1): ReLU()\n",
      "    (2): MaxPool2d(kernel_size=2, stride=2, padding=0, dilation=1, ceil_mode=False)\n",
      "    (3): Conv2d(6, 16, kernel_size=(5, 5), stride=(1, 1), padding=(2, 2))\n",
      "    (4): ReLU()\n",
      "    (5): MaxPool2d(kernel_size=2, stride=2, padding=0, dilation=1, ceil_mode=False)\n",
      "    (6): Conv2d(6, 16, kernel_size=(5, 5), stride=(1, 1), padding=(2, 2))\n",
      "    (7): ReLU()\n",
      "    (8): MaxPool2d(kernel_size=2, stride=2, padding=0, dilation=1, ceil_mode=False)\n",
      "    (9): Flatten()\n",
      "    (10): Linear(in_features=400, out_features=120, bias=True)\n",
      "    (11): ReLU()\n",
      "    (12): Linear(in_features=120, out_features=84, bias=True)\n",
      "    (13): ReLU()\n",
      "    (14): Linear(in_features=84, out_features=10, bias=True)\n",
      "  )\n",
      ")\n"
     ]
    }
   ],
   "source": [
    "from torch import optim\n",
    "\n",
    "# Assign model\n",
    "model = create_CNN_model()\n",
    "\n",
    "# Define optimiser\n",
    "optimiser = optim.SGD(model.parameters(), lr=1e-2)\n",
    "\n",
    "# Define loss function\n",
    "loss_function = nn.CrossEntropyLoss() # This defines how the optimiser changes the NN parameters\n",
    "\n",
    "print(model)"
   ]
  },
  {
   "cell_type": "code",
   "execution_count": 117,
   "metadata": {},
   "outputs": [],
   "source": [
    "def validate(model, data):\n",
    "    total = 0\n",
    "    correct = 0\n",
    "    for i, (images, labels) in enumerate(data):\n",
    "        x = model(images)\n",
    "        value, pred = torch.max(x, 1)\n",
    "        pred = pred.data.cpu()\n",
    "        total += x.size(0)\n",
    "        correct += torch.sum(pred == labels)\n",
    "    return float(correct*100./total)"
   ]
  },
  {
   "cell_type": "code",
   "execution_count": 118,
   "metadata": {},
   "outputs": [
    {
     "name": "stdout",
     "output_type": "stream",
     "text": [
      "Epoch 1\n",
      "-------------------------------\n",
      "loss: 0.042639  [    0/49000]\n",
      "loss: 0.064306  [ 3200/49000]\n",
      "loss: 0.107500  [ 6400/49000]\n",
      "loss: 0.018422  [ 9600/49000]\n",
      "loss: 0.113019  [12800/49000]\n",
      "loss: 0.170643  [16000/49000]\n",
      "loss: 0.102253  [19200/49000]\n",
      "loss: 0.031837  [22400/49000]\n",
      "loss: 0.055813  [25600/49000]\n",
      "loss: 0.049344  [28800/49000]\n",
      "loss: 0.185149  [32000/49000]\n",
      "loss: 0.114621  [35200/49000]\n",
      "loss: 0.137603  [38400/49000]\n",
      "loss: 0.103401  [41600/49000]\n",
      "loss: 0.105840  [44800/49000]\n",
      "loss: 0.123057  [48000/49000]\n",
      "Epoch 2\n",
      "-------------------------------\n",
      "loss: 0.040370  [    0/49000]\n",
      "loss: 0.057287  [ 3200/49000]\n",
      "loss: 0.118446  [ 6400/49000]\n",
      "loss: 0.016719  [ 9600/49000]\n",
      "loss: 0.115112  [12800/49000]\n",
      "loss: 0.162525  [16000/49000]\n",
      "loss: 0.101822  [19200/49000]\n",
      "loss: 0.027847  [22400/49000]\n",
      "loss: 0.055091  [25600/49000]\n",
      "loss: 0.045796  [28800/49000]\n",
      "loss: 0.168986  [32000/49000]\n",
      "loss: 0.107742  [35200/49000]\n",
      "loss: 0.137379  [38400/49000]\n",
      "loss: 0.096680  [41600/49000]\n",
      "loss: 0.095380  [44800/49000]\n",
      "loss: 0.119369  [48000/49000]\n",
      "Epoch 3\n",
      "-------------------------------\n",
      "loss: 0.037920  [    0/49000]\n",
      "loss: 0.053172  [ 3200/49000]\n",
      "loss: 0.116026  [ 6400/49000]\n",
      "loss: 0.015513  [ 9600/49000]\n",
      "loss: 0.113499  [12800/49000]\n",
      "loss: 0.156389  [16000/49000]\n",
      "loss: 0.096273  [19200/49000]\n",
      "loss: 0.026105  [22400/49000]\n",
      "loss: 0.053674  [25600/49000]\n",
      "loss: 0.042806  [28800/49000]\n",
      "loss: 0.156156  [32000/49000]\n",
      "loss: 0.099317  [35200/49000]\n",
      "loss: 0.136942  [38400/49000]\n",
      "loss: 0.092998  [41600/49000]\n",
      "loss: 0.086897  [44800/49000]\n",
      "loss: 0.119861  [48000/49000]\n",
      "Epoch 4\n",
      "-------------------------------\n",
      "loss: 0.035717  [    0/49000]\n",
      "loss: 0.049302  [ 3200/49000]\n",
      "loss: 0.111509  [ 6400/49000]\n",
      "loss: 0.014835  [ 9600/49000]\n",
      "loss: 0.112852  [12800/49000]\n",
      "loss: 0.149778  [16000/49000]\n",
      "loss: 0.092141  [19200/49000]\n",
      "loss: 0.024509  [22400/49000]\n",
      "loss: 0.052382  [25600/49000]\n",
      "loss: 0.040877  [28800/49000]\n",
      "loss: 0.144926  [32000/49000]\n",
      "loss: 0.091131  [35200/49000]\n",
      "loss: 0.137362  [38400/49000]\n",
      "loss: 0.088047  [41600/49000]\n",
      "loss: 0.078725  [44800/49000]\n",
      "loss: 0.117511  [48000/49000]\n",
      "Epoch 5\n",
      "-------------------------------\n",
      "loss: 0.034067  [    0/49000]\n",
      "loss: 0.046355  [ 3200/49000]\n",
      "loss: 0.107151  [ 6400/49000]\n",
      "loss: 0.013844  [ 9600/49000]\n",
      "loss: 0.111923  [12800/49000]\n",
      "loss: 0.144189  [16000/49000]\n",
      "loss: 0.087868  [19200/49000]\n",
      "loss: 0.023203  [22400/49000]\n",
      "loss: 0.051759  [25600/49000]\n",
      "loss: 0.038882  [28800/49000]\n",
      "loss: 0.136196  [32000/49000]\n",
      "loss: 0.083815  [35200/49000]\n",
      "loss: 0.136540  [38400/49000]\n",
      "loss: 0.084511  [41600/49000]\n",
      "loss: 0.071419  [44800/49000]\n",
      "loss: 0.117425  [48000/49000]\n"
     ]
    }
   ],
   "source": [
    "# Train the model and validation loops\n",
    "\n",
    "# References used\n",
    "# Pytorch: Quickstart: https://pytorch.org/tutorials/beginner/basics/quickstart_tutorial.html\n",
    "# PyTorch Lightning: https://www.youtube.com/watch?v=OMDn66kM9Qc&ab_channel=PyTorchLightning\n",
    "# Krishna Ramesh: https://www.youtube.com/watch?v=ijaT8HuCtIY&ab_channel=KrishnaRamesh \n",
    "\n",
    "import copy\n",
    "\n",
    "# Train the model\n",
    "num_epochs = 5\n",
    "max_accuracy = 0\n",
    "losses = list()\n",
    "accuracies = list()\n",
    "size = len(train_loader.dataset)\n",
    "\n",
    "for epoch in range(num_epochs):\n",
    "    print(f\"Epoch {epoch+1}\\n-------------------------------\")\n",
    "    loss = list()\n",
    "    for batch, (X, y) in enumerate(train_loader):\n",
    "        X, y = X.to(device), y.to(device) # where x is image and y is label\n",
    "\n",
    "        # Create matrix (why?)\n",
    "        num_rows = X.size(0) # The batch size\n",
    "        A = X.view(num_rows, -1) # Creates a matrix whose num_rows is batch size, num_columns = 28x28\n",
    "\n",
    "        # Step 1: Forward\n",
    "        logits = model(A) # Predict the result given this images\n",
    "        \n",
    "        # Step 2: Evaluate the loss by computing the objective function\n",
    "        J = loss_function(logits, y)\n",
    "\n",
    "        # Step 3: Clean gradients\n",
    "        model.zero_grad() # Equivalent to optimser.zero_grad() or params.grad._zero()\n",
    "\n",
    "        # Step 4: Accumulate the partial derivatives of J wrt params\n",
    "        J.backward() # Equivalent to params.grad._sum(dJ/dparams)\n",
    "\n",
    "        # Step 5: Step in the opposite direction of the gradient\n",
    "        optimiser.step()\n",
    "\n",
    "        # Store loss\n",
    "        losses.append(J.item())\n",
    "        \n",
    "        # Evaluate and store accuracy and store model\n",
    "        # accuracy = validate(model, validation_data)\n",
    "        # accuracies.append(accuracy)\n",
    "        # if accuracy > max_accuracy:\n",
    "        #     best_model = copy.deepcopy(model)\n",
    "        #     max_accuracy = accuracy\n",
    "\n",
    "        if batch % 100 == 0:\n",
    "            loss, current = J.item(), batch * len(x)\n",
    "            print(f\"loss: {loss:>7f}  [{current:>5d}/{size:>5d}]\")    "
   ]
  },
  {
   "cell_type": "code",
   "execution_count": null,
   "metadata": {},
   "outputs": [],
   "source": [
    "# Validate model\n",
    "losses = list()\n",
    "for batch in validation_loader:\n",
    "    x, y = batch # x is image and y is label\n",
    "\n",
    "    # Create matrix x, x: batch size x 1 channel x 28px x 28px\n",
    "    num_rows = x.size(0)\n",
    "    x = x.view(num_rows, -1) # Creates a matrix whose num_rows is batch size, num_columns = 28x28\n",
    "\n",
    "    # Step 1: forward\n",
    "    with torch.no_grad():\n",
    "        logits = model(x)\n",
    "    \n",
    "    # Step 2: Compute the objective function\n",
    "    J = loss_function(logits, y)\n",
    "\n",
    "    loss.append(J.item())\n",
    "\n",
    "print(f'Epoch {epoch +1}, validation_loss: {torch.tensor(loss).mean():.2f}'"
   ]
  },
  {
   "cell_type": "code",
   "execution_count": 111,
   "metadata": {},
   "outputs": [
    {
     "name": "stdout",
     "output_type": "stream",
     "text": [
      "NeuralNetworkLinear(\n",
      "  (flatten): Flatten()\n",
      "  (linear_relu_stack): Sequential(\n",
      "    (0): Linear(in_features=784, out_features=64, bias=True)\n",
      "    (1): ReLU()\n",
      "    (2): Linear(in_features=64, out_features=64, bias=True)\n",
      "    (3): ReLU()\n",
      "    (4): Linear(in_features=64, out_features=10, bias=True)\n",
      "  )\n",
      "  (model): Sequential(\n",
      "    (0): Conv2d(1, 6, kernel_size=(5, 5), stride=(1, 1), padding=(2, 2))\n",
      "    (1): ReLU()\n",
      "    (2): MaxPool2d(kernel_size=2, stride=2, padding=0, dilation=1, ceil_mode=False)\n",
      "    (3): Conv2d(6, 16, kernel_size=(5, 5), stride=(1, 1), padding=(2, 2))\n",
      "    (4): ReLU()\n",
      "    (5): MaxPool2d(kernel_size=2, stride=2, padding=0, dilation=1, ceil_mode=False)\n",
      "    (6): Conv2d(6, 16, kernel_size=(5, 5), stride=(1, 1), padding=(2, 2))\n",
      "    (7): ReLU()\n",
      "    (8): MaxPool2d(kernel_size=2, stride=2, padding=0, dilation=1, ceil_mode=False)\n",
      "    (9): Flatten()\n",
      "    (10): Linear(in_features=400, out_features=120, bias=True)\n",
      "    (11): ReLU()\n",
      "    (12): Linear(in_features=120, out_features=84, bias=True)\n",
      "    (13): ReLU()\n",
      "    (14): Linear(in_features=84, out_features=10, bias=True)\n",
      "  )\n",
      ")\n"
     ]
    }
   ],
   "source": [
    "print(model)"
   ]
  }
 ],
 "metadata": {
  "colab": {
   "name": "Assignment_1_7327.ipynb",
   "provenance": []
  },
  "kernelspec": {
   "display_name": "Python 3 (ipykernel)",
   "language": "python",
   "name": "python3"
  },
  "language_info": {
   "codemirror_mode": {
    "name": "ipython",
    "version": 3
   },
   "file_extension": ".py",
   "mimetype": "text/x-python",
   "name": "python",
   "nbconvert_exporter": "python",
   "pygments_lexer": "ipython3",
   "version": "3.7.11"
  }
 },
 "nbformat": 4,
 "nbformat_minor": 4
}
