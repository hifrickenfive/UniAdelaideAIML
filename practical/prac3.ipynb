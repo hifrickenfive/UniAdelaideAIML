{
 "cells": [
  {
   "cell_type": "code",
   "execution_count": 7,
   "metadata": {},
   "outputs": [
    {
     "name": "stdout",
     "output_type": "stream",
     "text": [
      "[(1, 3), (2, 4)]\n"
     ]
    }
   ],
   "source": [
    "a = [1, 2]\n",
    "b = [3, 4]\n",
    "\n",
    "c = zip(a,b) # creates a list of tuple pairs. Returns a zip object.\n",
    "\n",
    "print(list(c)) # cast to list"
   ]
  },
  {
   "cell_type": "code",
   "execution_count": 5,
   "metadata": {},
   "outputs": [
    {
     "name": "stdout",
     "output_type": "stream",
     "text": [
      "[0.30979848251702513, 0.6907454222137065, -0.9952929224499786, -0.6802782163438046, 0.6959290640218685, -1.810494808250678, -0.5789033842822924, 2.3324590585424887, -2.064089737035152, 0.009177311713611691]\n"
     ]
    }
   ],
   "source": [
    "# map applies a function to an iterator\n",
    "import math\n",
    "\n",
    "def F(x):\n",
    "    return math.sin(x*x)+2.0*math.cos(2.0*x)\n",
    "\n",
    "x_range = list(range(-10, 0))\n",
    "result = map(F, x_range) # returns a map object\n",
    "\n",
    "print(list(result)) # cast to list"
   ]
  }
 ],
 "metadata": {
  "interpreter": {
   "hash": "cea52a25197b0576de88fc4f40dae35728fbae1ac98e26b71cffda8a59009fe0"
  },
  "kernelspec": {
   "display_name": "Python 3.7.11 ('uni_adelaide_torch')",
   "language": "python",
   "name": "python3"
  },
  "language_info": {
   "codemirror_mode": {
    "name": "ipython",
    "version": 3
   },
   "file_extension": ".py",
   "mimetype": "text/x-python",
   "name": "python",
   "nbconvert_exporter": "python",
   "pygments_lexer": "ipython3",
   "version": "3.7.11"
  },
  "orig_nbformat": 4
 },
 "nbformat": 4,
 "nbformat_minor": 2
}
