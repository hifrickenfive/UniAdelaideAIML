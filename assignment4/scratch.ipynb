{
 "cells": [
  {
   "cell_type": "markdown",
   "metadata": {},
   "source": [
    "# PD Data"
   ]
  },
  {
   "cell_type": "code",
   "execution_count": 8,
   "metadata": {},
   "outputs": [],
   "source": [
    "from typing import List\n",
    "import numpy as np\n",
    "import pandas as pd\n",
    "\n",
    "def MakeDF(colNames: List, df:pd):\n",
    "    newDf = pd.DataFrame()\n",
    "    for colName in colNames:\n",
    "        newDf = pd.concat([newDf, df[colName]], axis=1)\n",
    "    return newDf\n",
    "\n",
    "train = pd.read_csv('liar_dataset/train.tsv', sep='\\t')\n",
    "train.columns = ['ID', 'label', 'statement', 'subject', 'speaker', 'spkrJobTitle', 'state', 'party', 'barelyTrueCounts', 'falseCounts', 'halfTrueCounts', 'mostlyTrueCounts', 'pantsOnFireCounts', 'context']\n",
    "\n",
    "test = pd.read_csv('liar_dataset/test.tsv', sep='\\t')\n",
    "test.columns = ['ID', 'label', 'statement', 'subject', 'speaker', 'spkrJobTitle', 'state', 'party', 'barelyTrueCounts', 'falseCounts', 'halfTrueCounts', 'mostlyTrueCounts', 'pantsOnFireCounts', 'context']\n",
    "\n",
    "speakerLieCountHeaders = ['barelyTrueCounts', 'falseCounts', 'halfTrueCounts', 'mostlyTrueCounts', 'pantsOnFireCounts']\n",
    "trainSpeakerLieCounts = MakeDF(speakerLieCountHeaders, train)\n",
    "testSpeakerLieCounts = MakeDF(speakerLieCountHeaders, test)"
   ]
  },
  {
   "cell_type": "markdown",
   "metadata": {},
   "source": [
    "# Word Embedding\n"
   ]
  },
  {
   "cell_type": "code",
   "execution_count": 9,
   "metadata": {},
   "outputs": [
    {
     "name": "stdout",
     "output_type": "stream",
     "text": [
      "Found 12423 unique tokens.\n",
      "Preparing of embedding matrix is done\n"
     ]
    }
   ],
   "source": [
    "import keras\n",
    "import tensorflow\n",
    "from sklearn.preprocessing import LabelEncoder\n",
    "from tensorflow.keras.utils import to_categorical # This is now fully integrated into tensorflow\n",
    "from keras.initializers import Constant\n",
    "from keras.preprocessing.text import Tokenizer\n",
    "from keras.preprocessing.sequence import pad_sequences\n",
    "from keras.layers import Dense, Input, GlobalMaxPooling1D\n",
    "from keras.layers import Conv1D, MaxPooling1D, Embedding, LSTM\n",
    "from keras.models import Model, Sequential\n",
    "from keras import layers\n",
    "\n",
    "MAX_SEQUENCE_LENGTH = 1000\n",
    "MAX_NUM_WORDS = 20000\n",
    "EMBEDDING_DIM = 100\n",
    "\n",
    "def prepare_targets(y_train, y_test):\n",
    "\tle = LabelEncoder()\n",
    "\tle.fit(y_train)\n",
    "\ty_train_enc = le.transform(y_train)\n",
    "\ty_test_enc = le.transform(y_test)\n",
    "\treturn y_train_enc, y_test_enc\n",
    "\n",
    "tokenizer = Tokenizer(num_words=MAX_NUM_WORDS)\n",
    "tokenizer.fit_on_texts(train['statement'])\n",
    "train_sequences = tokenizer.texts_to_sequences(train['statement'])\n",
    "test_sequences = tokenizer.texts_to_sequences(test['statement'])\n",
    "word_index = tokenizer.word_index\n",
    "print('Found %s unique tokens.' % len(word_index))\n",
    "#Converting this to sequences to be fed into neural network. Max seq. len\n",
    "# is 1000 as set earlier. Initial padding of 0s, until vector is of\n",
    "#size MAX_SEQUENCE_LENGTH\n",
    "\n",
    "# Make Data\n",
    "train_data = pad_sequences(train_sequences, maxlen=MAX_SEQUENCE_LENGTH)\n",
    "test_data = pad_sequences(test_sequences, maxlen=MAX_SEQUENCE_LENGTH)\n",
    "\n",
    "# Make Keras Labels\n",
    "NUM_CLASSES = 6\n",
    "y_train_enc, y_test_enc = prepare_targets(train['label'], test['label'])\n",
    "y_train = to_categorical(y_train_enc, NUM_CLASSES)\n",
    "y_test = to_categorical(y_test_enc, NUM_CLASSES)\n",
    "\n",
    "embeddings_index = {}\n",
    "with open('glove.6B.100d.txt') as f:\n",
    "    for line in f:\n",
    "        values = line.split()\n",
    "        word = values[0]\n",
    "        coefs = np.asarray(values[1:], dtype='float32')\n",
    "        embeddings_index[word] = coefs\n",
    "        num_words = min(MAX_NUM_WORDS, len(word_index)) + 1\n",
    "        embedding_matrix = np.zeros((num_words, EMBEDDING_DIM))\n",
    "for word, i in word_index.items():\n",
    "    if i > MAX_NUM_WORDS:\n",
    "        continue\n",
    "    embedding_vector = embeddings_index.get(word)\n",
    "    if embedding_vector is not None:\n",
    "        embedding_matrix[i] = embedding_vector\n",
    "\n",
    "embedding_layer = Embedding(MAX_NUM_WORDS, EMBEDDING_DIM, embeddings_initializer=Constant(embedding_matrix), input_length=MAX_SEQUENCE_LENGTH, trainable=False)\n",
    "print(\"Preparing of embedding matrix is done\")\n"
   ]
  },
  {
   "cell_type": "code",
   "execution_count": null,
   "metadata": {},
   "outputs": [],
   "source": [
    "from keras.models import Model\n",
    "from keras.layers import Input, Dense, concatenate\n",
    "from keras.utils.vis_utils import plot_model\n",
    "\n",
    "left_branch_input = Input(shape=(2,), name='Left_input')\n",
    "left_branch_output = Dense(5, activation='relu')(left_branch_input)\n",
    "\n",
    "right_branch_input = Input(shape=(2,), name='Right_input')\n",
    "right_branch_input = Embedding(MAX_NUM_WORDS, 128)(right_branch_input) # ?\n",
    "right_branch_output = Dense(5, activation='relu')(right_branch_input)\n",
    "\n",
    "concat = concatenate([left_branch_output, right_branch_output], name='Concatenate')\n",
    "final_model_output = Dense(3, activation='sigmoid')(concat)\n",
    "final_model = Model(inputs=[left_branch_input, right_branch_input], outputs=final_model_output,\n",
    "                    name='Final_output')\n",
    "final_model.compile(optimizer='adam', loss='binary_crossentropy')"
   ]
  },
  {
   "cell_type": "code",
   "execution_count": 13,
   "metadata": {},
   "outputs": [
    {
     "data": {
      "text/plain": [
       "<keras.layers.embeddings.Embedding at 0x184891e82e0>"
      ]
     },
     "execution_count": 13,
     "metadata": {},
     "output_type": "execute_result"
    }
   ],
   "source": [
    "Embedding(MAX_NUM_WORDS, 128)\n"
   ]
  },
  {
   "cell_type": "code",
   "execution_count": null,
   "metadata": {},
   "outputs": [],
   "source": []
  },
  {
   "cell_type": "code",
   "execution_count": null,
   "metadata": {},
   "outputs": [
    {
     "name": "stdout",
     "output_type": "stream",
     "text": [
      "Defining and training an LSTM model, training embedding layer on the fly\n"
     ]
    }
   ],
   "source": [
    "print(\"Defining and training an LSTM model, training embedding layer on the fly\")\n",
    "rnnmodel = Sequential()\n",
    "rnnmodel.add(Embedding(MAX_NUM_WORDS, 128))\n",
    "rnnmodel.add(LSTM(128, dropout=0.2, recurrent_dropout=0.2))\n",
    "rnnmodel.add(Dense(4, activation='sigmoid'))\n"
   ]
  }
 ],
 "metadata": {
  "interpreter": {
   "hash": "9715a5a8ce8dc377c360239c6a927aea14aed84ae7d7534b98967b5d4f23a0e1"
  },
  "kernelspec": {
   "display_name": "Python 3.8.13 ('uni_adelaide_keras')",
   "language": "python",
   "name": "python3"
  },
  "language_info": {
   "codemirror_mode": {
    "name": "ipython",
    "version": 3
   },
   "file_extension": ".py",
   "mimetype": "text/x-python",
   "name": "python",
   "nbconvert_exporter": "python",
   "pygments_lexer": "ipython3",
   "version": "3.8.13"
  },
  "orig_nbformat": 4
 },
 "nbformat": 4,
 "nbformat_minor": 2
}
