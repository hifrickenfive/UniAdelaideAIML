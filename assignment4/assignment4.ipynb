{
 "cells": [
  {
   "cell_type": "markdown",
   "metadata": {},
   "source": [
    "Problem Statement: We want to classify the degree of truth in the statements of influential people. The data contains the statement itself, the person, and meta-data about the topic, and polical affiliations. Each statement is labelled with six categories: 'barelyTrueCounts', 'falseCounts', 'halfTrueCounts', 'mostlyTrueCounts', 'pantsOnFireCounts', 'true'. We can frame this problem as a machine learning problem which has multiple classes."
   ]
  },
  {
   "cell_type": "markdown",
   "metadata": {},
   "source": [
    "# Import data"
   ]
  },
  {
   "cell_type": "code",
   "execution_count": 97,
   "metadata": {},
   "outputs": [],
   "source": [
    "import pandas as pd\n",
    "train = pd.read_csv('liar_dataset/train.tsv', sep='\\t')\n",
    "train.columns = ['ID', 'label', 'statement', 'subject', 'speaker', 'spkrJobTitle', 'state', 'party', 'barelyTrueCounts', 'falseCounts', 'halfTrueCounts', 'mostlyTrueCounts', 'pantsOnFireCounts', 'context']\n",
    "\n",
    "test = pd.read_csv('liar_dataset/test.tsv', sep='\\t')\n",
    "test.columns = ['ID', 'label', 'statement', 'subject', 'speaker', 'spkrJobTitle', 'state', 'party', 'barelyTrueCounts', 'falseCounts', 'halfTrueCounts', 'mostlyTrueCounts', 'pantsOnFireCounts', 'context']\n",
    "\n",
    "val = pd.read_csv('liar_dataset/valid.tsv', sep='\\t')\n",
    "val.columns = ['ID', 'label', 'statement', 'subject', 'speaker', 'spkrJobTitle', 'state', 'party', 'barelyTrueCounts', 'falseCounts', 'halfTrueCounts', 'mostlyTrueCounts', 'pantsOnFireCounts', 'context']"
   ]
  },
  {
   "cell_type": "markdown",
   "metadata": {},
   "source": [
    "## 0.1 Helper Functions"
   ]
  },
  {
   "cell_type": "code",
   "execution_count": 2,
   "metadata": {},
   "outputs": [],
   "source": [
    "from typing import List\n",
    "import numpy as np"
   ]
  },
  {
   "cell_type": "code",
   "execution_count": 3,
   "metadata": {},
   "outputs": [],
   "source": [
    "def MakeDF(colNames: List, df:pd):\n",
    "    newDf = pd.DataFrame()\n",
    "    for colName in colNames:\n",
    "        newDf = pd.concat([newDf, df[colName]], axis=1)\n",
    "    return newDf\n",
    "\n",
    "speakerLieCountHeaders = ['barelyTrueCounts', 'falseCounts', 'halfTrueCounts', 'mostlyTrueCounts', 'pantsOnFireCounts']\n",
    "trainSpeakerLieCounts = MakeDF(speakerLieCountHeaders, train)\n",
    "testSpeakerLieCounts = MakeDF(speakerLieCountHeaders, test)"
   ]
  },
  {
   "cell_type": "markdown",
   "metadata": {},
   "source": [
    "# 1 Conduct Exploratory Data Analysis"
   ]
  },
  {
   "cell_type": "markdown",
   "metadata": {},
   "source": [
    "## 1.1 Check dataframe info (Non-Nulls, Counts, Data types)"
   ]
  },
  {
   "cell_type": "code",
   "execution_count": 148,
   "metadata": {},
   "outputs": [
    {
     "name": "stdout",
     "output_type": "stream",
     "text": [
      "<class 'pandas.core.frame.DataFrame'>\n",
      "RangeIndex: 10239 entries, 0 to 10238\n",
      "Data columns (total 16 columns):\n",
      " #   Column             Non-Null Count  Dtype  \n",
      "---  ------             --------------  -----  \n",
      " 0   ID                 10239 non-null  object \n",
      " 1   label              10239 non-null  object \n",
      " 2   statement          10239 non-null  object \n",
      " 3   subject            10237 non-null  object \n",
      " 4   speaker            10237 non-null  object \n",
      " 5   spkrJobTitle       7342 non-null   object \n",
      " 6   state              8031 non-null   object \n",
      " 7   party              10237 non-null  object \n",
      " 8   barelyTrueCounts   10237 non-null  float64\n",
      " 9   falseCounts        10237 non-null  float64\n",
      " 10  halfTrueCounts     10237 non-null  float64\n",
      " 11  mostlyTrueCounts   10237 non-null  float64\n",
      " 12  pantsOnFireCounts  10237 non-null  float64\n",
      " 13  context            10137 non-null  object \n",
      " 14  wordsStemmed       10239 non-null  object \n",
      " 15  wordsUnstemmed     10239 non-null  object \n",
      "dtypes: float64(5), object(11)\n",
      "memory usage: 1.2+ MB\n",
      "<class 'pandas.core.frame.DataFrame'>\n",
      "RangeIndex: 1266 entries, 0 to 1265\n",
      "Data columns (total 16 columns):\n",
      " #   Column             Non-Null Count  Dtype \n",
      "---  ------             --------------  ----- \n",
      " 0   ID                 1266 non-null   object\n",
      " 1   label              1266 non-null   object\n",
      " 2   statement          1266 non-null   object\n",
      " 3   subject            1266 non-null   object\n",
      " 4   speaker            1266 non-null   object\n",
      " 5   spkrJobTitle       941 non-null    object\n",
      " 6   state              1004 non-null   object\n",
      " 7   party              1266 non-null   object\n",
      " 8   barelyTrueCounts   1266 non-null   int64 \n",
      " 9   falseCounts        1266 non-null   int64 \n",
      " 10  halfTrueCounts     1266 non-null   int64 \n",
      " 11  mostlyTrueCounts   1266 non-null   int64 \n",
      " 12  pantsOnFireCounts  1266 non-null   int64 \n",
      " 13  context            1249 non-null   object\n",
      " 14  wordsStemmed       1266 non-null   object\n",
      " 15  wordsUnstemmed     1266 non-null   object\n",
      "dtypes: int64(5), object(11)\n",
      "memory usage: 158.4+ KB\n",
      "<class 'pandas.core.frame.DataFrame'>\n",
      "RangeIndex: 1283 entries, 0 to 1282\n",
      "Data columns (total 16 columns):\n",
      " #   Column             Non-Null Count  Dtype \n",
      "---  ------             --------------  ----- \n",
      " 0   ID                 1283 non-null   object\n",
      " 1   label              1283 non-null   object\n",
      " 2   statement          1283 non-null   object\n",
      " 3   subject            1283 non-null   object\n",
      " 4   speaker            1283 non-null   object\n",
      " 5   spkrJobTitle       938 non-null    object\n",
      " 6   state              1004 non-null   object\n",
      " 7   party              1283 non-null   object\n",
      " 8   barelyTrueCounts   1283 non-null   int64 \n",
      " 9   falseCounts        1283 non-null   int64 \n",
      " 10  halfTrueCounts     1283 non-null   int64 \n",
      " 11  mostlyTrueCounts   1283 non-null   int64 \n",
      " 12  pantsOnFireCounts  1283 non-null   int64 \n",
      " 13  context            1271 non-null   object\n",
      " 14  wordsStemmed       1283 non-null   object\n",
      " 15  wordsUnstemmed     1283 non-null   object\n",
      "dtypes: int64(5), object(11)\n",
      "memory usage: 160.5+ KB\n"
     ]
    }
   ],
   "source": [
    "train.info()\n"
   ]
  },
  {
   "cell_type": "code",
   "execution_count": 150,
   "metadata": {},
   "outputs": [
    {
     "name": "stdout",
     "output_type": "stream",
     "text": [
      "<class 'pandas.core.frame.DataFrame'>\n",
      "RangeIndex: 1266 entries, 0 to 1265\n",
      "Data columns (total 16 columns):\n",
      " #   Column             Non-Null Count  Dtype \n",
      "---  ------             --------------  ----- \n",
      " 0   ID                 1266 non-null   object\n",
      " 1   label              1266 non-null   object\n",
      " 2   statement          1266 non-null   object\n",
      " 3   subject            1266 non-null   object\n",
      " 4   speaker            1266 non-null   object\n",
      " 5   spkrJobTitle       941 non-null    object\n",
      " 6   state              1004 non-null   object\n",
      " 7   party              1266 non-null   object\n",
      " 8   barelyTrueCounts   1266 non-null   int64 \n",
      " 9   falseCounts        1266 non-null   int64 \n",
      " 10  halfTrueCounts     1266 non-null   int64 \n",
      " 11  mostlyTrueCounts   1266 non-null   int64 \n",
      " 12  pantsOnFireCounts  1266 non-null   int64 \n",
      " 13  context            1249 non-null   object\n",
      " 14  wordsStemmed       1266 non-null   object\n",
      " 15  wordsUnstemmed     1266 non-null   object\n",
      "dtypes: int64(5), object(11)\n",
      "memory usage: 158.4+ KB\n"
     ]
    }
   ],
   "source": [
    "test.info()"
   ]
  },
  {
   "cell_type": "code",
   "execution_count": 149,
   "metadata": {},
   "outputs": [
    {
     "name": "stdout",
     "output_type": "stream",
     "text": [
      "<class 'pandas.core.frame.DataFrame'>\n",
      "RangeIndex: 1283 entries, 0 to 1282\n",
      "Data columns (total 16 columns):\n",
      " #   Column             Non-Null Count  Dtype \n",
      "---  ------             --------------  ----- \n",
      " 0   ID                 1283 non-null   object\n",
      " 1   label              1283 non-null   object\n",
      " 2   statement          1283 non-null   object\n",
      " 3   subject            1283 non-null   object\n",
      " 4   speaker            1283 non-null   object\n",
      " 5   spkrJobTitle       938 non-null    object\n",
      " 6   state              1004 non-null   object\n",
      " 7   party              1283 non-null   object\n",
      " 8   barelyTrueCounts   1283 non-null   int64 \n",
      " 9   falseCounts        1283 non-null   int64 \n",
      " 10  halfTrueCounts     1283 non-null   int64 \n",
      " 11  mostlyTrueCounts   1283 non-null   int64 \n",
      " 12  pantsOnFireCounts  1283 non-null   int64 \n",
      " 13  context            1271 non-null   object\n",
      " 14  wordsStemmed       1283 non-null   object\n",
      " 15  wordsUnstemmed     1283 non-null   object\n",
      "dtypes: int64(5), object(11)\n",
      "memory usage: 160.5+ KB\n"
     ]
    }
   ],
   "source": [
    "val.info()"
   ]
  },
  {
   "cell_type": "markdown",
   "metadata": {},
   "source": [
    "## 1.2 Check Nulls and Nans"
   ]
  },
  {
   "cell_type": "code",
   "execution_count": 6,
   "metadata": {},
   "outputs": [],
   "source": [
    "import seaborn as sns\n",
    "import matplotlib.pyplot as plt\n",
    "\n",
    "def PlotMissingData(df, dataName:str):\n",
    "    plt.figure(figsize=(12,6))\n",
    "    sns.heatmap(df.isna().transpose(),\n",
    "                cmap=\"YlGnBu\",\n",
    "                cbar_kws={'label': 'Missing Data'})\n",
    "    figName = 'missingData' + dataName + '.png'\n",
    "    plt.savefig(figName, dpi=100)\n",
    "    plt.title(figName, fontsize =20)\n",
    "    plt.show()"
   ]
  },
  {
   "cell_type": "code",
   "execution_count": 151,
   "metadata": {},
   "outputs": [
    {
     "data": {
      "image/png": "[encoded data removed]",
      "text/plain": [
       "<Figure size 864x432 with 2 Axes>"
      ]
     },
     "metadata": {
      "needs_background": "light"
     },
     "output_type": "display_data"
    },
    {
     "data": {
      "image/png": "[encoded data removed]",
      "text/plain": [
       "<Figure size 864x432 with 2 Axes>"
      ]
     },
     "metadata": {
      "needs_background": "light"
     },
     "output_type": "display_data"
    },
    {
     "data": {
      "image/png": "[encoded data removed]",
      "text/plain": [
       "<Figure size 864x432 with 2 Axes>"
      ]
     },
     "metadata": {
      "needs_background": "light"
     },
     "output_type": "display_data"
    }
   ],
   "source": [
    "PlotMissingData(train, 'train')\n",
    "PlotMissingData(test, 'test')\n",
    "PlotMissingData(val, 'val')"
   ]
  },
  {
   "cell_type": "code",
   "execution_count": 158,
   "metadata": {},
   "outputs": [
    {
     "name": "stdout",
     "output_type": "stream",
     "text": [
      "ID                      0\n",
      "label                   0\n",
      "statement               0\n",
      "subject                 2\n",
      "speaker                 2\n",
      "spkrJobTitle         2897\n",
      "state                2208\n",
      "party                   2\n",
      "barelyTrueCounts        2\n",
      "falseCounts             2\n",
      "halfTrueCounts          2\n",
      "mostlyTrueCounts        2\n",
      "pantsOnFireCounts       2\n",
      "context               102\n",
      "wordsStemmed            0\n",
      "wordsUnstemmed          0\n",
      "dtype: int64\n",
      "ID                     0\n",
      "label                  0\n",
      "statement              0\n",
      "subject                0\n",
      "speaker                0\n",
      "spkrJobTitle         325\n",
      "state                262\n",
      "party                  0\n",
      "barelyTrueCounts       0\n",
      "falseCounts            0\n",
      "halfTrueCounts         0\n",
      "mostlyTrueCounts       0\n",
      "pantsOnFireCounts      0\n",
      "context               17\n",
      "wordsStemmed           0\n",
      "wordsUnstemmed         0\n",
      "dtype: int64\n",
      "ID                     0\n",
      "label                  0\n",
      "statement              0\n",
      "subject                0\n",
      "speaker                0\n",
      "spkrJobTitle         345\n",
      "state                279\n",
      "party                  0\n",
      "barelyTrueCounts       0\n",
      "falseCounts            0\n",
      "halfTrueCounts         0\n",
      "mostlyTrueCounts       0\n",
      "pantsOnFireCounts      0\n",
      "context               12\n",
      "wordsStemmed           0\n",
      "wordsUnstemmed         0\n",
      "dtype: int64\n"
     ]
    }
   ],
   "source": [
    "# Count Nulls\n",
    "trainMissing = train.isnull().sum()\n",
    "testMissing = test.isnull().sum()\n",
    "valMissing = val.isnull().sum()\n",
    "\n",
    "print(trainMissing)\n",
    "print(testMissing)\n",
    "print(valMissing)"
   ]
  },
  {
   "cell_type": "markdown",
   "metadata": {},
   "source": [
    "## 1.3 Check duplicates"
   ]
  },
  {
   "cell_type": "code",
   "execution_count": 160,
   "metadata": {},
   "outputs": [
    {
     "name": "stdout",
     "output_type": "stream",
     "text": [
      "Duplicates in Train:0, Test:0, Va:0\n"
     ]
    }
   ],
   "source": [
    "def CheckDuplicateIDs(df):\n",
    "    duplicateIDs = []\n",
    "    for count in df.ID.value_counts():\n",
    "        if count > 1:\n",
    "            duplicateIDs.append(df.ID)\n",
    "    if duplicateIDs:\n",
    "        return duplicateIDs\n",
    "    else:\n",
    "        return 0\n",
    "\n",
    "duplicateTrainIDs = CheckDuplicateIDs(train)\n",
    "duplicateTestIDs = CheckDuplicateIDs(test)\n",
    "duplicateValIDs = CheckDuplicateIDs(val)\n",
    "print(f'Duplicates in Train:{duplicateTrainIDs}, Test:{duplicateTestIDs}, Val:{duplicateValIDs}')\n"
   ]
  },
  {
   "cell_type": "markdown",
   "metadata": {},
   "source": [
    "## 1.4 Check Quantitative\n"
   ]
  },
  {
   "cell_type": "code",
   "execution_count": 161,
   "metadata": {},
   "outputs": [
    {
     "data": {
      "text/plain": [
       "(array([1654.,    0., 2114.,    0., 1994.,    0., 1962.,    0., 1676.,\n",
       "         839.]),\n",
       " array([0. , 0.5, 1. , 1.5, 2. , 2.5, 3. , 3.5, 4. , 4.5, 5. ]),\n",
       " <BarContainer object of 10 artists>)"
      ]
     },
     "execution_count": 161,
     "metadata": {},
     "output_type": "execute_result"
    },
    {
     "data": {
      "image/png": "[encoded data removed]",
      "text/plain": [
       "<Figure size 432x288 with 1 Axes>"
      ]
     },
     "metadata": {
      "needs_background": "light"
     },
     "output_type": "display_data"
    }
   ],
   "source": [
    "plt.hist(train['label']) # Pants-fire has 750 counts vs. the other classes which have approx 1500-2000 counts."
   ]
  },
  {
   "cell_type": "markdown",
   "metadata": {},
   "source": [
    "## 1.5 Check Qualitative"
   ]
  },
  {
   "cell_type": "code",
   "execution_count": 163,
   "metadata": {},
   "outputs": [
    {
     "name": "stdout",
     "output_type": "stream",
     "text": [
      "Unique speakers: 2909 \n",
      "\n",
      "Percent unique speakers vs. all train data: 0.28 \n",
      "\n",
      "barack-obama                   488\n",
      "donald-trump                   273\n",
      "hillary-clinton                239\n",
      "mitt-romney                    176\n",
      "scott-walker                   149\n",
      "                              ... \n",
      "david-pennington                 1\n",
      "sandra-cunningham                1\n",
      "cynthia-lummis                   1\n",
      "yes-62-death-penalty-repeal      1\n",
      "bill-belichick                   1\n",
      "Name: speaker, Length: 2909, dtype: int64\n"
     ]
    }
   ],
   "source": [
    "print(f\"Unique speakers: {train['speaker'].nunique()} \\n\")\n",
    "print(f\"Percent unique speakers vs. all train data: {train['speaker'].nunique() / len(train):.2f} \\n\")\n",
    "print(train['speaker'].value_counts())"
   ]
  },
  {
   "cell_type": "markdown",
   "metadata": {},
   "source": [
    "# 2 Preprocess "
   ]
  },
  {
   "cell_type": "markdown",
   "metadata": {},
   "source": [
    "## 2.1 Get Unique List of Subjects, Contexts, Speakers"
   ]
  },
  {
   "cell_type": "code",
   "execution_count": 222,
   "metadata": {},
   "outputs": [],
   "source": [
    "listOfSubjects = list(train['subject'])"
   ]
  },
  {
   "cell_type": "code",
   "execution_count": 217,
   "metadata": {},
   "outputs": [],
   "source": [
    "from collections import defaultdict\n",
    "import itertools\n",
    "import operator\n",
    "\n",
    "def CountListOfList(listOfList):\n",
    "    countDict = defaultdict(int)\n",
    "    for subjects in train['subject'].items():\n",
    "        for subject in subjects:\n",
    "            countDict[subject] += 1\n",
    "    sortedCount = dict(sorted(countDict.items(), key=operator.itemgetter(1),reverse=True))\n",
    "\n",
    "    return sortedCount"
   ]
  },
  {
   "cell_type": "code",
   "execution_count": 223,
   "metadata": {},
   "outputs": [
    {
     "data": {
      "text/plain": [
       "<BarContainer object of 20 artists>"
      ]
     },
     "execution_count": 223,
     "metadata": {},
     "output_type": "execute_result"
    },
    {
     "data": {
      "image/png": "[encoded data removed]",
      "text/plain": [
       "<Figure size 432x288 with 1 Axes>"
      ]
     },
     "metadata": {
      "needs_background": "light"
     },
     "output_type": "display_data"
    }
   ],
   "source": [
    "subjects = CountListOfList(listOfSubjects)\n",
    "top20subjects = dict(itertools.islice(subjects.items(), 20)) # Get top 20 topics\n",
    "plt.xticks(rotation='vertical')\n",
    "plt.bar(top20subjects.keys(), top20subjects.values())"
   ]
  },
  {
   "cell_type": "markdown",
   "metadata": {},
   "source": [
    "## 2.2 Process each statement"
   ]
  },
  {
   "cell_type": "code",
   "execution_count": 15,
   "metadata": {},
   "outputs": [
    {
     "name": "stderr",
     "output_type": "stream",
     "text": [
      "[nltk_data] Downloading package stopwords to\n",
      "[nltk_data]     C:\\Users\\jason\\AppData\\Roaming\\nltk_data...\n",
      "[nltk_data]   Package stopwords is already up-to-date!\n",
      "[nltk_data] Downloading package punkt to\n",
      "[nltk_data]     C:\\Users\\jason\\AppData\\Roaming\\nltk_data...\n",
      "[nltk_data]   Package punkt is already up-to-date!\n"
     ]
    },
    {
     "data": {
      "text/plain": [
       "True"
      ]
     },
     "execution_count": 15,
     "metadata": {},
     "output_type": "execute_result"
    }
   ],
   "source": [
    "import nltk\n",
    "import re\n",
    "from nltk.corpus import stopwords\n",
    "from nltk.stem.snowball import SnowballStemmer\n",
    "\n",
    "nltk.download('stopwords')\n",
    "nltk.download('punkt')"
   ]
  },
  {
   "cell_type": "code",
   "execution_count": 16,
   "metadata": {},
   "outputs": [],
   "source": [
    "def RemovePunctuation(sentence: str, punctuations: str) -> str:\n",
    "    noPunctuation = \"\"\n",
    "    for char in sentence:\n",
    "        if char not in punctuations:\n",
    "            noPunctuation = noPunctuation + char\n",
    "    return noPunctuation"
   ]
  },
  {
   "cell_type": "code",
   "execution_count": 17,
   "metadata": {},
   "outputs": [],
   "source": [
    "def ProcessStatement(statements: List[str], punctuations: str, cachedStopWords: List, snowballStemmer: SnowballStemmer, stem=True) -> List[str]:\n",
    "\n",
    "    processedStatements = []\n",
    "    for statement in statements:\n",
    "        # Make lower case\n",
    "        _statement = statement.lower()\n",
    "\n",
    "        # Remove punctuation\n",
    "        _statement = RemovePunctuation(_statement, punctuations)\n",
    "        \n",
    "        # Remove numbers\n",
    "        _statement  = re.sub('\\w*\\d\\w*', '', _statement) \n",
    "\n",
    "        # Split/Tokenise\n",
    "        _statement = _statement.split(' ') \n",
    "\n",
    "        _wordlist = []\n",
    "        for word in _statement:\n",
    "            # Exclude stop word. Exclude one-letter words\n",
    "            if not word in cachedStopWords and len(word) > 1:\n",
    "                # Stem the word\n",
    "                if stem:\n",
    "                    _wordlist.append(snowballStemmer.stem(word))\n",
    "                else:\n",
    "                    _wordlist.append(word)\n",
    "        processedStatements.append(_wordlist)\n",
    "    \n",
    "    return processedStatements"
   ]
  },
  {
   "cell_type": "code",
   "execution_count": 99,
   "metadata": {},
   "outputs": [],
   "source": [
    "cachedStopWords = stopwords.words(\"english\")\n",
    "punctuations = '''!()-[]{};:'\"\\,<>./?@#$%^&*_~'''\n",
    "snowballStemmer = SnowballStemmer('english')\n",
    "\n",
    "statements = [list(train['statement']), list(val['statement']), list(test['statement'])]\n",
    "\n",
    "trainWordsStemmed   = ProcessStatement(statements[0], punctuations, cachedStopWords, snowballStemmer, stem=True)\n",
    "trainWordsUnstemmed = ProcessStatement(statements[0], punctuations, cachedStopWords, snowballStemmer, stem=False)\n",
    "\n",
    "valWordsStemmed   = ProcessStatement(statements[1], punctuations, cachedStopWords, snowballStemmer, stem=True)\n",
    "valWordsUnstemmed = ProcessStatement(statements[1], punctuations, cachedStopWords, snowballStemmer, stem=False)\n",
    "\n",
    "testWordsStemmed    = ProcessStatement(statements[2], punctuations, cachedStopWords, snowballStemmer, stem=True)\n",
    "testWordsUnstemmed  = ProcessStatement(statements[2], punctuations, cachedStopWords, snowballStemmer, stem=False)"
   ]
  },
  {
   "cell_type": "code",
   "execution_count": 106,
   "metadata": {},
   "outputs": [],
   "source": [
    "train['wordsStemmed'] = trainWordsStemmed\n",
    "train['wordsUnstemmed'] = trainWordsUnstemmed\n",
    "val['wordsStemmed'] = valWordsStemmed\n",
    "val['wordsUnstemmed'] = valWordsUnstemmed\n",
    "test['wordsStemmed'] = testWordsStemmed\n",
    "test['wordsUnstemmed'] = testWordsUnstemmed"
   ]
  },
  {
   "cell_type": "markdown",
   "metadata": {},
   "source": [
    "## 2.3 One hot encode some of the MetaData"
   ]
  },
  {
   "cell_type": "code",
   "execution_count": 101,
   "metadata": {},
   "outputs": [],
   "source": [
    "speakerOhe = pd.get_dummies(train['speaker']) \n",
    "partyOhe = pd.get_dummies(train['party'])"
   ]
  },
  {
   "cell_type": "markdown",
   "metadata": {},
   "source": [
    "# 3 Feature Engineering"
   ]
  },
  {
   "cell_type": "markdown",
   "metadata": {},
   "source": [
    "## 3.1 Embed using Word2Vec"
   ]
  },
  {
   "cell_type": "code",
   "execution_count": 102,
   "metadata": {},
   "outputs": [
    {
     "name": "stdout",
     "output_type": "stream",
     "text": [
      "done loading Word2Vec\n"
     ]
    }
   ],
   "source": [
    "from gensim.models import Word2Vec, KeyedVectors\n",
    "pretrainedpath = \"GoogleNews-vectors-negative300.bin\"\n",
    "w2vModel = KeyedVectors.load_word2vec_format(pretrainedpath,binary=True)\n",
    "print('done loading Word2Vec')"
   ]
  },
  {
   "cell_type": "code",
   "execution_count": 103,
   "metadata": {},
   "outputs": [],
   "source": [
    "def EmbedWords(processedStatements: List[List]) -> List:\n",
    "    \"\"\"Averages word embeddings in a sentence to return a word vector\"\"\"\n",
    "    DIMENSION = 300\n",
    "    zeroVector = np.zeros(DIMENSION)\n",
    "    wordVectors = []\n",
    "    excludedWordCount = 0\n",
    "    excludedWords = []\n",
    "    totalCount = 0\n",
    "\n",
    "    for tokens in processedStatements:\n",
    "        currentVector = zeroVector\n",
    "        tokenCount = 0\n",
    "        for token in tokens:\n",
    "            totalCount += 1\n",
    "            if token in w2vModel:\n",
    "                currentVector += w2vModel[token]\n",
    "                tokenCount += 1\n",
    "            else:\n",
    "                excludedWordCount += 1\n",
    "                excludedWords.append(token)\n",
    "        wordVectors.append(currentVector/tokenCount)\n",
    "    return wordVectors, (excludedWords, excludedWordCount/totalCount)"
   ]
  },
  {
   "cell_type": "code",
   "execution_count": 107,
   "metadata": {},
   "outputs": [],
   "source": [
    "# Need to use unstemmed words to match the words in word2vec \"GoogleNews-vectors-negative300.bin\" model\n",
    "trainVec, trainVecLog = EmbedWords(train['wordsUnstemmed']) # 3% of token words excluded. Acceptable.\n",
    "valVec, valVecLog = EmbedWords(val['wordsUnstemmed']) # 3% of token words excluded. Acceptable.\n",
    "testVec, testVecLog = EmbedWords(test['wordsUnstemmed']) # 3% of token words excluded. Acceptable."
   ]
  },
  {
   "cell_type": "markdown",
   "metadata": {},
   "source": [
    "# 4 Train Multiclass Classifiers"
   ]
  },
  {
   "cell_type": "code",
   "execution_count": 143,
   "metadata": {},
   "outputs": [],
   "source": [
    "# Randomise rows of data\n",
    "train = train.sample(frac=1).reset_index(drop=True)\n",
    "test = test.sample(frac=1).reset_index(drop=True)\n",
    "val = val.sample(frac=1).reset_index(drop=True)"
   ]
  },
  {
   "cell_type": "markdown",
   "metadata": {},
   "source": [
    "## 4.1 Baseline Models (Bag of Words)"
   ]
  },
  {
   "cell_type": "code",
   "execution_count": 24,
   "metadata": {},
   "outputs": [],
   "source": [
    "from sklearn.linear_model import LogisticRegression\n",
    "from sklearn import naive_bayes\n",
    "from sklearn.neighbors import KNeighborsClassifier\n",
    "from sklearn.feature_extraction.text import CountVectorizer\n",
    "from sklearn.feature_extraction.text import TfidfVectorizer\n",
    "from nltk.tokenize import word_tokenize\n",
    "from sklearn import metrics"
   ]
  },
  {
   "cell_type": "code",
   "execution_count": 139,
   "metadata": {},
   "outputs": [],
   "source": [
    "def trainBaselineModels(xTrain, yTrain, xVal, yVal):\n",
    "    # Initialise models\n",
    "    models = [naive_bayes.MultinomialNB(), KNeighborsClassifier(), LogisticRegression(C=1.0, max_iter=10000)]\n",
    "    modelName = ['NB MultiNomninal', 'KNN', 'Logistic']\n",
    "\n",
    "    accuracies = []\n",
    "    for model in models:\n",
    "\n",
    "        # Fit model on training data and labels\n",
    "        model.fit(xTrain, yTrain)\n",
    "\n",
    "        # Predict on test data\n",
    "        predictions = model.predict(xVal)\n",
    "\n",
    "        # Check accuracy\n",
    "        accuracy = metrics.accuracy_score(yVal, predictions)\n",
    "        accuracies.append(accuracy)\n",
    "\n",
    "    # Print Accuracy\n",
    "    for i in range(3):\n",
    "        print(f'{modelName[i]} Accuracy: {accuracies[i]:.2f}')\n",
    "\n",
    "    # Evaluate Precision, Recall, F1-Score for Logistic\n",
    "    print('\\n Classification Report for Logistic Model')\n",
    "    print(metrics.classification_report(val['label'], predictions))\n",
    "\n",
    "    # Evaluate Confusion Matrix for Logistic\n",
    "    print('\\n Confusion Matrix for Logistic Model')\n",
    "    cmDisp = metrics.ConfusionMatrixDisplay.from_predictions(yVal, predictions, xticks_rotation='vertical')\n"
   ]
  },
  {
   "cell_type": "markdown",
   "metadata": {},
   "source": [
    "### 4.1.1 CountVectorizer"
   ]
  },
  {
   "cell_type": "code",
   "execution_count": 140,
   "metadata": {},
   "outputs": [
    {
     "name": "stdout",
     "output_type": "stream",
     "text": [
      "NB MultiNomninal Accuracy: 0.25\n",
      "KNN Accuracy: 0.23\n",
      "Logistic Accuracy: 0.25\n",
      "\n",
      " Classification Report for Logistic Model\n",
      "              precision    recall  f1-score   support\n",
      "\n",
      " barely-true       0.24      0.21      0.22       236\n",
      "       false       0.27      0.32      0.29       263\n",
      "   half-true       0.23      0.24      0.23       248\n",
      " mostly-true       0.26      0.25      0.26       251\n",
      "  pants-fire       0.26      0.15      0.19       116\n",
      "        true       0.22      0.27      0.24       169\n",
      "\n",
      "    accuracy                           0.25      1283\n",
      "   macro avg       0.25      0.24      0.24      1283\n",
      "weighted avg       0.25      0.25      0.24      1283\n",
      "\n",
      "\n",
      " Confusion Matrix for Logistic Model\n"
     ]
    },
    {
     "data": {
      "image/png": "[encoded data removed]",
      "text/plain": [
       "<Figure size 432x288 with 2 Axes>"
      ]
     },
     "metadata": {
      "needs_background": "light"
     },
     "output_type": "display_data"
    }
   ],
   "source": [
    "# Initialise count vectorizer to model 'Bag of Words' with tokenization (keeps punctuation)\n",
    "countVec = CountVectorizer(tokenizer=word_tokenize, token_pattern=None)\n",
    "\n",
    "# Fit vectorizer to the corpus\n",
    "countVec.fit(train['statement'])\n",
    "\n",
    "# Transform training and val statements\n",
    "xTrain = countVec.transform(train['statement'])\n",
    "xVal = countVec.transform(val['statement'])\n",
    "\n",
    "trainBaselineModels(xTrain, train['label'], xVal, val['label'])"
   ]
  },
  {
   "cell_type": "markdown",
   "metadata": {},
   "source": [
    "### 4.1.2 TfidVectorizer (replaces counts with floats)"
   ]
  },
  {
   "cell_type": "code",
   "execution_count": 141,
   "metadata": {},
   "outputs": [
    {
     "name": "stdout",
     "output_type": "stream",
     "text": [
      "NB MultiNomninal Accuracy: 0.24\n",
      "KNN Accuracy: 0.22\n",
      "Logistic Accuracy: 0.25\n",
      "\n",
      " Classification Report for Logistic Model\n",
      "              precision    recall  f1-score   support\n",
      "\n",
      " barely-true       0.25      0.18      0.21       236\n",
      "       false       0.28      0.37      0.32       263\n",
      "   half-true       0.22      0.29      0.25       248\n",
      " mostly-true       0.26      0.25      0.26       251\n",
      "  pants-fire       0.45      0.09      0.14       116\n",
      "        true       0.21      0.21      0.21       169\n",
      "\n",
      "    accuracy                           0.25      1283\n",
      "   macro avg       0.28      0.23      0.23      1283\n",
      "weighted avg       0.26      0.25      0.24      1283\n",
      "\n",
      "\n",
      " Confusion Matrix for Logistic Model\n"
     ]
    },
    {
     "data": {
      "image/png": "[encoded data removed]",
      "text/plain": [
       "<Figure size 432x288 with 2 Axes>"
      ]
     },
     "metadata": {
      "needs_background": "light"
     },
     "output_type": "display_data"
    }
   ],
   "source": [
    "# Initialise count vectorizer to model 'Bag of Words' with tokenization (keeps punctuation)\n",
    "tfv = TfidfVectorizer(tokenizer=word_tokenize, token_pattern=None)\n",
    "\n",
    "# Fit vectorizer to the corpus\n",
    "tfv.fit(train['statement'])\n",
    "\n",
    "# Transform training and val statements\n",
    "xTrain = tfv.transform(train['statement'])\n",
    "xVal= tfv.transform(val['statement'])\n",
    "\n",
    "trainBaselineModels(xTrain, train['label'], xVal, val['label'])"
   ]
  },
  {
   "cell_type": "markdown",
   "metadata": {},
   "source": [
    "### 4.1.3 Ngram range 1 to 3"
   ]
  },
  {
   "cell_type": "code",
   "execution_count": 142,
   "metadata": {},
   "outputs": [
    {
     "name": "stdout",
     "output_type": "stream",
     "text": [
      "NB MultiNomninal Accuracy: 0.24\n",
      "KNN Accuracy: 0.25\n",
      "Logistic Accuracy: 0.26\n",
      "\n",
      " Classification Report for Logistic Model\n",
      "              precision    recall  f1-score   support\n",
      "\n",
      " barely-true       0.24      0.14      0.18       236\n",
      "       false       0.28      0.32      0.30       263\n",
      "   half-true       0.24      0.42      0.30       248\n",
      " mostly-true       0.28      0.30      0.29       251\n",
      "  pants-fire       0.43      0.03      0.05       116\n",
      "        true       0.27      0.21      0.23       169\n",
      "\n",
      "    accuracy                           0.26      1283\n",
      "   macro avg       0.29      0.24      0.22      1283\n",
      "weighted avg       0.28      0.26      0.24      1283\n",
      "\n",
      "\n",
      " Confusion Matrix for Logistic Model\n"
     ]
    },
    {
     "data": {
      "image/png": "[encoded data removed]",
      "text/plain": [
       "<Figure size 432x288 with 2 Axes>"
      ]
     },
     "metadata": {
      "needs_background": "light"
     },
     "output_type": "display_data"
    }
   ],
   "source": [
    "# Initialise count vectorizer to model 'Bag of Words' with tokenization (keeps punctuation). Specifically try ngrams ranges 1 to 3\n",
    "tfv = TfidfVectorizer(tokenizer=word_tokenize,token_pattern=None,ngram_range=(1, 3))\n",
    "\n",
    "# Fit vectorizer to the corpus\n",
    "tfv.fit(train['statement'])\n",
    "\n",
    "# Transform training and val statements\n",
    "xTrain = tfv.transform(train['statement'])\n",
    "xVal = tfv.transform(val['statement'])\n",
    "\n",
    "trainBaselineModels(xTrain, train['label'], xVal, val['label'])"
   ]
  },
  {
   "cell_type": "markdown",
   "metadata": {},
   "source": [
    "## 4.2 Use Baseline Models but with Word2Vec Instead"
   ]
  },
  {
   "cell_type": "code",
   "execution_count": 224,
   "metadata": {},
   "outputs": [
    {
     "name": "stdout",
     "output_type": "stream",
     "text": [
      "KNN Accuracy: 0.16\n",
      "Logistic Accuracy: 0.19\n",
      "\n",
      " Classification Report for Logistics Model\n",
      "              precision    recall  f1-score   support\n",
      "\n",
      " barely-true       0.12      0.05      0.07       236\n",
      "       false       0.16      0.20      0.18       263\n",
      "   half-true       0.19      0.38      0.25       248\n",
      " mostly-true       0.22      0.24      0.23       251\n",
      "  pants-fire       0.00      0.00      0.00       116\n",
      "        true       0.22      0.12      0.15       169\n",
      "\n",
      "    accuracy                           0.19      1283\n",
      "   macro avg       0.15      0.16      0.15      1283\n",
      "weighted avg       0.16      0.19      0.16      1283\n",
      "\n",
      "\n",
      " Confusion Matrix for Logistics Model\n"
     ]
    },
    {
     "name": "stderr",
     "output_type": "stream",
     "text": [
      "C:\\Users\\jason\\anaconda3\\envs\\uni_adelaide_keras\\lib\\site-packages\\sklearn\\metrics\\_classification.py:1318: UndefinedMetricWarning: Precision and F-score are ill-defined and being set to 0.0 in labels with no predicted samples. Use `zero_division` parameter to control this behavior.\n",
      "  _warn_prf(average, modifier, msg_start, len(result))\n",
      "C:\\Users\\jason\\anaconda3\\envs\\uni_adelaide_keras\\lib\\site-packages\\sklearn\\metrics\\_classification.py:1318: UndefinedMetricWarning: Precision and F-score are ill-defined and being set to 0.0 in labels with no predicted samples. Use `zero_division` parameter to control this behavior.\n",
      "  _warn_prf(average, modifier, msg_start, len(result))\n",
      "C:\\Users\\jason\\anaconda3\\envs\\uni_adelaide_keras\\lib\\site-packages\\sklearn\\metrics\\_classification.py:1318: UndefinedMetricWarning: Precision and F-score are ill-defined and being set to 0.0 in labels with no predicted samples. Use `zero_division` parameter to control this behavior.\n",
      "  _warn_prf(average, modifier, msg_start, len(result))\n"
     ]
    },
    {
     "data": {
      "image/png": "[encoded data removed]",
      "text/plain": [
       "<Figure size 432x288 with 2 Axes>"
      ]
     },
     "metadata": {
      "needs_background": "light"
     },
     "output_type": "display_data"
    }
   ],
   "source": [
    "# Use the Word2Vec embedding created earlier. Note: NaiveBayes doesn't work with negative numbers\n",
    "models = [KNeighborsClassifier(), LogisticRegression(C=1.0, max_iter=10000)]\n",
    "modelName = ['KNN', 'Logistic']\n",
    "\n",
    "accuracies = []\n",
    "for model in models:\n",
    "\n",
    "    # Fit model on training data and labels\n",
    "    model.fit(xTrain, train['label'])\n",
    "\n",
    "    # Predict on test data\n",
    "    predictions = model.predict(xVal)\n",
    "\n",
    "    # Check accuracy\n",
    "    accuracy = metrics.accuracy_score(val['label'], predictions)\n",
    "    accuracies.append(accuracy)\n",
    "\n",
    "# Print Accuracy\n",
    "for i in range(0, len(models)):\n",
    "    print(f'{modelName[i]} Accuracy: {accuracies[i]:.2f}')\n",
    "\n",
    "# Evaluate Precision, Recall, F1-Score for Logistics\n",
    "print('\\n Classification Report for Logistics Model')\n",
    "print(metrics.classification_report(val['label'], predictions))\n",
    "\n",
    "# Evaluate Confusion Matrix for Logistics\n",
    "print('\\n Confusion Matrix for Logistics Model')\n",
    "cmDisp = metrics.ConfusionMatrixDisplay.from_predictions(val['label'], predictions, xticks_rotation='vertical')"
   ]
  },
  {
   "cell_type": "markdown",
   "metadata": {},
   "source": [
    "# 4.3 Deep learning: LSTM Model\n",
    "For word embeddings use one of the following options: embedding layer in Keras, Word2Vec, GloVE. You have the freedom to pick your own deep learning architecture.\n",
    "- Most common architectures are CNNs and RNNs. LSTMs are a popular form of RNN.\n",
    "- LSTMs are popular because they handle sequential data whereas CNNs don't.\n",
    "- Recent approachs also involve starting with large, pre-trained language model and fine-tuning them for the task at hand."
   ]
  },
  {
   "cell_type": "code",
   "execution_count": 29,
   "metadata": {},
   "outputs": [],
   "source": [
    "import keras\n",
    "import tensorflow\n",
    "from sklearn.preprocessing import LabelEncoder\n",
    "from tensorflow.keras.utils import to_categorical # This is now fully integrated into tensorflow\n",
    "from keras.initializers import Constant\n",
    "from keras.preprocessing.text import Tokenizer\n",
    "from keras.preprocessing.sequence import pad_sequences\n",
    "from keras.layers import Dense, Input, GlobalMaxPooling1D\n",
    "from keras.layers import Embedding, LSTM\n",
    "from keras.models import Sequential\n",
    "from keras import layers"
   ]
  },
  {
   "cell_type": "markdown",
   "metadata": {},
   "source": [
    "### 4.3.1 Word Embedding for LSTM\n",
    "1. tokenise the texts and convert into word index vectors\n",
    "1. Pad the text sequence so that all texts are the same length\n",
    "1. Map every word index to an embedding vector by multiplying word index vectors with the embedding matrix (pre-trained embeddings or custom embedding)"
   ]
  },
  {
   "cell_type": "code",
   "execution_count": 30,
   "metadata": {},
   "outputs": [
    {
     "name": "stdout",
     "output_type": "stream",
     "text": [
      "Longest statement: ﻿﻿Since Mayor Kennedy OBrien took office Sayreville has issued 22,081 building permits! Now OBrien is holding secret meetings with big developers.\n",
      "Max sequence length: 146, Max words: 21\n",
      "MAX_SEQUENCE_LENGTH: 146, MAX_NUM_WORDS: 21\n"
     ]
    }
   ],
   "source": [
    "# Define constants for the LSTM\n",
    "MARGIN = 1\n",
    "maxStatement = max(train['statement'].max(), test['statement'].max())\n",
    "MAX_SEQUENCE_LENGTH = len(maxStatement) * MARGIN\n",
    "MAX_NUM_WORDS = len(maxStatement.split()) * MARGIN\n",
    "EMBEDDING_DIM = 100\n",
    "\n",
    "print(f'Longest statement: {maxStatement}')\n",
    "print(f'Max sequence length: {len(maxStatement)}, Max words: {len(maxStatement.split())}')\n",
    "print(f'MAX_SEQUENCE_LENGTH: {MAX_SEQUENCE_LENGTH}, MAX_NUM_WORDS: {MAX_NUM_WORDS}')"
   ]
  },
  {
   "cell_type": "code",
   "execution_count": 91,
   "metadata": {},
   "outputs": [
    {
     "name": "stdout",
     "output_type": "stream",
     "text": [
      "Label Map: {'barely-true': 0, 'false': 1, 'half-true': 2, 'mostly-true': 3, 'pants-fire': 4, 'true': 5}\n"
     ]
    }
   ],
   "source": [
    "# Convert labels from categoricals to one hot encoded columns\n",
    "numData = 50  # DON'T FORGET TO RESET\n",
    "le = LabelEncoder()\n",
    "le.fit(train['label'].head(numData)) # DON'T FORGET TO RESET\n",
    "labelMap = dict(zip(le.classes_, le.transform(le.classes_))) \n",
    "print(f'Label Map: {labelMap}')\n",
    "\n",
    "# Convert String labels to Integers\n",
    "yTrainIntClass = le.transform(train['label'].head(numData)) # DON'T FORGET TO RESET\n",
    "yTestIntClass = le.transform(test['label'].head(numData)) # DON'T FORGET TO RESET\n",
    "labelMapIntAsKey = {value:key for key, value in labelMap.items()} # Make integer keys and strings the values. Used in metrics\n",
    "\n",
    "# Convert to OHE\n",
    "NUM_CLASSES = len(labelMap)\n",
    "yTrain = to_categorical(yTrainIntClass, NUM_CLASSES)\n",
    "yTest = to_categorical(yTestIntClass, NUM_CLASSES)\n"
   ]
  },
  {
   "cell_type": "code",
   "execution_count": 72,
   "metadata": {},
   "outputs": [],
   "source": [
    "# Create Word Index\n",
    "tokenizer = Tokenizer(num_words=MAX_NUM_WORDS)\n",
    "tokenizer.fit_on_texts(train['statement'].head(numData)) # DON'T FORGET TO RESET\n",
    "trainSequences = tokenizer.texts_to_sequences(train['statement'].head(numData))  # DON\"T FORGET TO RESET\n",
    "testSequences = tokenizer.texts_to_sequences(test['statement'].head(numData)) # DON'T FORGET TO RESET\n",
    "wordIndex = tokenizer.word_index\n",
    "\n",
    "# Pad sequences with zeros until max sequence length\n",
    "trainData = pad_sequences(trainSequences, maxlen=MAX_SEQUENCE_LENGTH) \n",
    "testData = pad_sequences(testSequences, maxlen=MAX_SEQUENCE_LENGTH)"
   ]
  },
  {
   "cell_type": "code",
   "execution_count": 78,
   "metadata": {},
   "outputs": [],
   "source": [
    "# Use Stanford Glove to create\n",
    "embeddingDict = {}\n",
    "with open('glove.6B.100d.txt', encoding=\"utf8\") as f:\n",
    "    for line in f:\n",
    "        values = line.split()\n",
    "        word = values[0]\n",
    "        embeddingDict[word] = np.asarray(values[1:], dtype='float32')\n",
    "        numWords = min(MAX_NUM_WORDS, len(wordIndex)) + 1\n",
    "        embeddingMatrix = np.zeros((numWords, EMBEDDING_DIM))\n",
    "        \n",
    "for word, i in wordIndex.items():\n",
    "    if i > MAX_NUM_WORDS:\n",
    "        continue\n",
    "    embeddingVec = embeddingDict.get(word)\n",
    "    if embeddingVec is not None:\n",
    "        embeddingMatrix[i] = embeddingVec"
   ]
  },
  {
   "cell_type": "code",
   "execution_count": 79,
   "metadata": {},
   "outputs": [],
   "source": [
    "# Create Embedding Layer\n",
    "embeddingLayer = Embedding(MAX_NUM_WORDS, EMBEDDING_DIM, embeddings_initializer=Constant(embeddingMatrix), input_length=MAX_SEQUENCE_LENGTH, trainable=False)"
   ]
  },
  {
   "cell_type": "markdown",
   "metadata": {},
   "source": [
    "## 4.3.2 Create Deep Learning Architecture\n",
    "You have the freedom to pick your own deep learning architecture."
   ]
  },
  {
   "cell_type": "code",
   "execution_count": 80,
   "metadata": {},
   "outputs": [
    {
     "name": "stdout",
     "output_type": "stream",
     "text": [
      "WARNING:tensorflow:Layer lstm_20 will not use cuDNN kernels since it doesn't meet the criteria. It will use a generic GPU kernel as fallback when running on GPU.\n",
      "WARNING:tensorflow:Layer lstm_21 will not use cuDNN kernels since it doesn't meet the criteria. It will use a generic GPU kernel as fallback when running on GPU.\n",
      "WARNING:tensorflow:Layer lstm_22 will not use cuDNN kernels since it doesn't meet the criteria. It will use a generic GPU kernel as fallback when running on GPU.\n",
      "Training the model...\n",
      "2/2 [==============================] - 18s 4s/step - loss: 0.8405 - accuracy: 0.1800 - val_loss: 0.8135 - val_accuracy: 0.1600\n",
      "2/2 [==============================] - 1s 261ms/step - loss: 0.8135 - accuracy: 0.1600\n",
      "LSTM predication accuracy: 0.1599999964237213\n"
     ]
    }
   ],
   "source": [
    "# Create Deep Learning Network\n",
    "myLSTM = Sequential()\n",
    "myLSTM.add(Embedding(MAX_NUM_WORDS, 128))\n",
    "myLSTM.add(LSTM(128, dropout=0.2, recurrent_dropout=0.2, return_sequences=True))\n",
    "myLSTM.add(LSTM(128, dropout=0.2, recurrent_dropout=0.2, return_sequences=True))\n",
    "myLSTM.add(LSTM(128, dropout=0.2, recurrent_dropout=0.2))\n",
    "myLSTM.add(Dense(20, activation='sigmoid'))\n",
    "myLSTM.add(Dense(6, activation='sigmoid'))\n",
    "myLSTM.compile(loss='binary_crossentropy', optimizer='adam', metrics=['accuracy'])\n",
    "\n",
    "# Train The Model\n",
    "print('Training the model...')\n",
    "result = myLSTM.fit(trainData, yTrain, batch_size=32, epochs=1, validation_data=(testData, yTest))\n",
    "score, acc = myLSTM.evaluate(testData, yTest, batch_size=32)\n",
    "print('LSTM predication accuracy:', acc)"
   ]
  },
  {
   "cell_type": "markdown",
   "metadata": {},
   "source": [
    "# 5 Hyperparameter tuning\n",
    "In machine learning, hyperparameter tuning is the problem of choosing a set of optimal\n",
    "hyperparameters for a learning algorithm. In this step, select one or two parameters and\n",
    "optimise them to further improve the performance of your LSTM model."
   ]
  },
  {
   "cell_type": "markdown",
   "metadata": {},
   "source": [
    "## 5.1 Change number of epochs from 1 to 3"
   ]
  },
  {
   "cell_type": "code",
   "execution_count": 83,
   "metadata": {},
   "outputs": [
    {
     "name": "stdout",
     "output_type": "stream",
     "text": [
      "WARNING:tensorflow:Layer lstm_26 will not use cuDNN kernels since it doesn't meet the criteria. It will use a generic GPU kernel as fallback when running on GPU.\n",
      "WARNING:tensorflow:Layer lstm_27 will not use cuDNN kernels since it doesn't meet the criteria. It will use a generic GPU kernel as fallback when running on GPU.\n",
      "WARNING:tensorflow:Layer lstm_28 will not use cuDNN kernels since it doesn't meet the criteria. It will use a generic GPU kernel as fallback when running on GPU.\n",
      "Training the model...\n",
      "Epoch 1/3\n",
      "2/2 [==============================] - 16s 4s/step - loss: 0.7347 - accuracy: 0.2200 - val_loss: 0.7244 - val_accuracy: 0.2200\n",
      "Epoch 2/3\n",
      "2/2 [==============================] - 6s 3s/step - loss: 0.7125 - accuracy: 0.2200 - val_loss: 0.6778 - val_accuracy: 0.2200\n",
      "Epoch 3/3\n",
      "2/2 [==============================] - 6s 4s/step - loss: 0.6604 - accuracy: 0.2200 - val_loss: 0.6170 - val_accuracy: 0.2200\n",
      "2/2 [==============================] - 0s 232ms/step - loss: 0.6170 - accuracy: 0.2200\n",
      "LSTM predication accuracy: 0.2199999988079071\n"
     ]
    }
   ],
   "source": [
    "# Create Deep Learning Network\n",
    "myLSTM = Sequential()\n",
    "myLSTM.add(Embedding(MAX_NUM_WORDS, 128))\n",
    "myLSTM.add(LSTM(128, dropout=0.2, recurrent_dropout=0.2, return_sequences=True))\n",
    "myLSTM.add(LSTM(128, dropout=0.2, recurrent_dropout=0.2, return_sequences=True))\n",
    "myLSTM.add(LSTM(128, dropout=0.2, recurrent_dropout=0.2))\n",
    "myLSTM.add(Dense(20, activation='sigmoid'))\n",
    "myLSTM.add(Dense(6, activation='sigmoid'))\n",
    "myLSTM.compile(loss='binary_crossentropy', optimizer='adam', metrics=['accuracy'])\n",
    "\n",
    "# Train The Model\n",
    "print('Training the model...')\n",
    "result = myLSTM.fit(trainData, yTrain, batch_size=32, epochs=3, validation_data=(testData, yTest))\n",
    "score, acc = myLSTM.evaluate(testData, yTest, batch_size=32)\n",
    "print('LSTM predication accuracy:', acc)"
   ]
  },
  {
   "cell_type": "markdown",
   "metadata": {},
   "source": [
    "## 5.2 Change batch size from 32 to 10"
   ]
  },
  {
   "cell_type": "code",
   "execution_count": 85,
   "metadata": {},
   "outputs": [
    {
     "name": "stdout",
     "output_type": "stream",
     "text": [
      "WARNING:tensorflow:Layer lstm_32 will not use cuDNN kernels since it doesn't meet the criteria. It will use a generic GPU kernel as fallback when running on GPU.\n",
      "WARNING:tensorflow:Layer lstm_33 will not use cuDNN kernels since it doesn't meet the criteria. It will use a generic GPU kernel as fallback when running on GPU.\n",
      "WARNING:tensorflow:Layer lstm_34 will not use cuDNN kernels since it doesn't meet the criteria. It will use a generic GPU kernel as fallback when running on GPU.\n",
      "Training the model...\n",
      "Epoch 1/3\n",
      "2/2 [==============================] - 16s 4s/step - loss: 0.8053 - accuracy: 0.1600 - val_loss: 0.7701 - val_accuracy: 0.2000\n",
      "Epoch 2/3\n",
      "2/2 [==============================] - 6s 3s/step - loss: 0.7794 - accuracy: 0.1600 - val_loss: 0.7087 - val_accuracy: 0.2000\n",
      "Epoch 3/3\n",
      "2/2 [==============================] - 7s 4s/step - loss: 0.7085 - accuracy: 0.1200 - val_loss: 0.6251 - val_accuracy: 0.2000\n",
      "5/5 [==============================] - 2s 282ms/step - loss: 0.6251 - accuracy: 0.2000\n",
      "LSTM predication accuracy: 0.20000000298023224\n"
     ]
    }
   ],
   "source": [
    "# Create Deep Learning Network\n",
    "myLSTM = Sequential()\n",
    "myLSTM.add(Embedding(MAX_NUM_WORDS, 128))\n",
    "myLSTM.add(LSTM(128, dropout=0.2, recurrent_dropout=0.2, return_sequences=True))\n",
    "myLSTM.add(LSTM(128, dropout=0.2, recurrent_dropout=0.2, return_sequences=True))\n",
    "myLSTM.add(LSTM(128, dropout=0.2, recurrent_dropout=0.2))\n",
    "myLSTM.add(Dense(20, activation='sigmoid'))\n",
    "myLSTM.add(Dense(6, activation='sigmoid'))\n",
    "myLSTM.compile(loss='binary_crossentropy', optimizer='adam', metrics=['accuracy'])\n",
    "\n",
    "# Train The Model\n",
    "print('Training the model...')\n",
    "result = myLSTM.fit(trainData, yTrain, batch_size=32, epochs=3, validation_data=(testData, yTest))\n",
    "score, acc = myLSTM.evaluate(testData, yTest, batch_size=10)\n",
    "print('LSTM predication accuracy:', acc)"
   ]
  },
  {
   "cell_type": "markdown",
   "metadata": {},
   "source": [
    "# 6 Model Evaluation\n",
    "Use standard evaluation metrics such as precision, recall, F-measure and AUC to evaluate the\n",
    "performance of your models."
   ]
  },
  {
   "cell_type": "markdown",
   "metadata": {},
   "source": [
    "## 6.1 Precision, Recall, F1 Score"
   ]
  },
  {
   "cell_type": "code",
   "execution_count": 93,
   "metadata": {},
   "outputs": [
    {
     "name": "stdout",
     "output_type": "stream",
     "text": [
      "              precision    recall  f1-score   support\n",
      "\n",
      " barely-true       0.00      0.00      0.00        10\n",
      "       false       0.00      0.00      0.00         8\n",
      "   half-true       0.00      0.00      0.00        11\n",
      " mostly-true       0.00      0.00      0.00         6\n",
      "  pants-fire       0.00      0.00      0.00         5\n",
      "        true       0.20      1.00      0.33        10\n",
      "\n",
      "    accuracy                           0.20        50\n",
      "   macro avg       0.03      0.17      0.06        50\n",
      "weighted avg       0.04      0.20      0.07        50\n",
      "\n"
     ]
    },
    {
     "name": "stderr",
     "output_type": "stream",
     "text": [
      "C:\\Users\\jason\\anaconda3\\envs\\uni_adelaide_keras\\lib\\site-packages\\sklearn\\metrics\\_classification.py:1318: UndefinedMetricWarning: Precision and F-score are ill-defined and being set to 0.0 in labels with no predicted samples. Use `zero_division` parameter to control this behavior.\n",
      "  _warn_prf(average, modifier, msg_start, len(result))\n",
      "C:\\Users\\jason\\anaconda3\\envs\\uni_adelaide_keras\\lib\\site-packages\\sklearn\\metrics\\_classification.py:1318: UndefinedMetricWarning: Precision and F-score are ill-defined and being set to 0.0 in labels with no predicted samples. Use `zero_division` parameter to control this behavior.\n",
      "  _warn_prf(average, modifier, msg_start, len(result))\n",
      "C:\\Users\\jason\\anaconda3\\envs\\uni_adelaide_keras\\lib\\site-packages\\sklearn\\metrics\\_classification.py:1318: UndefinedMetricWarning: Precision and F-score are ill-defined and being set to 0.0 in labels with no predicted samples. Use `zero_division` parameter to control this behavior.\n",
      "  _warn_prf(average, modifier, msg_start, len(result))\n"
     ]
    },
    {
     "data": {
      "image/png": "[encoded data removed]",
      "text/plain": [
       "<Figure size 432x288 with 2 Axes>"
      ]
     },
     "metadata": {
      "needs_background": "light"
     },
     "output_type": "display_data"
    }
   ],
   "source": [
    "# Precision = TP / (TP + FP) is concerned with the proportion of predicted positives is truly positive (row)\n",
    "# Recall  = TP / (TP + FN) is concerned with the proportion of actual positives are correctly classified (column)\n",
    "# F1 score = 2 x (precision x recall) / (precision + recall). F1 scores need to be used with care because they give equal weigh to precision and recall!\n",
    "\n",
    "# Predict on training data\n",
    "y_pred = myLSTM.predict(yTrain)\n",
    "\n",
    "# Preproces back to class labels\n",
    "yPredRounded =np.argmax(y_pred, axis=1) # Convert from OHE back to single column of integers\n",
    "yTestRounded = np.argmax(yTest, axis=1) # Convert from OHE back to single column of  integers\n",
    "yPredString = [labelMapIntAsKey[integerLabel] for integerLabel in yPredRounded] # Convert labels from intergers to strings\n",
    "yTestString = [labelMapIntAsKey[integerLabel] for integerLabel in yTestRounded] # Convert labels from intergers to strings\n",
    "\n",
    "# Evaluate Confusion Matrix\n",
    "cm = metrics.confusion_matrix(yTestString, yPredString)\n",
    "cmDisp = metrics.ConfusionMatrixDisplay(cm, display_labels=[values for key, values in labelMap.items()])\n",
    "cmDisp.plot()\n",
    "\n",
    "# Evaluate Precision, Recall, F1-Score\n",
    "print(metrics.classification_report(yTestString, yPredString))"
   ]
  },
  {
   "cell_type": "markdown",
   "metadata": {},
   "source": [
    "# 6.2 ROC AUC Macro and Weighted For Multi-Class"
   ]
  },
  {
   "cell_type": "code",
   "execution_count": 76,
   "metadata": {},
   "outputs": [
    {
     "name": "stdout",
     "output_type": "stream",
     "text": [
      "Macro AUC OVO : 0.456, Weighted AUC OVO: 0.447\n",
      "Macro AUC OVR : 0.456, Weighted AUC OVR: 0.447\n"
     ]
    }
   ],
   "source": [
    "# ROC is for binary classification. So we need to use One vs. One and One vs. Rest for multiclass classification.\n",
    "# Note: ROC for multi-class can be macro or weighted since we need to effectively collapse the ROCs for each label into one metric.\n",
    "# Good 0.8-0.9. Acceptable 0.7-0.8. Bad < 0.5.\n",
    "\n",
    "macroAUC_OVO = metrics.roc_auc_score(yTest, y_pred, multi_class=\"ovo\", average=\"macro\")\n",
    "weightedAUC_OVO = metrics.roc_auc_score( yTest, y_pred, multi_class=\"ovo\", average=\"weighted\")\n",
    "print(f'Macro AUC OVO : {macroAUC_OVO:.3f}, Weighted AUC OVO: {weightedAUC_OVO:.3f}')\n",
    "\n",
    "macroAUC_OVR = metrics.roc_auc_score(yTest, y_pred, multi_class=\"ovr\", average=\"macro\")\n",
    "weightedAUC_OVR = metrics.roc_auc_score(yTest, y_pred, multi_class=\"ovr\", average=\"weighted\")\n",
    "print(f'Macro AUC OVR : {macroAUC_OVR:.3f}, Weighted AUC OVR: {weightedAUC_OVR:.3f}')"
   ]
  },
  {
   "cell_type": "markdown",
   "metadata": {},
   "source": [
    "# 7 Conclusion"
   ]
  }
 ],
 "metadata": {
  "interpreter": {
   "hash": "468819c82e791b0f9a8e64a9b2ca550cabcbea14dfb8d98bf6b8daf534ac0400"
  },
  "kernelspec": {
   "display_name": "Python 3.8.8 ('base')",
   "language": "python",
   "name": "python3"
  },
  "language_info": {
   "codemirror_mode": {
    "name": "ipython",
    "version": 3
   },
   "file_extension": ".py",
   "mimetype": "text/x-python",
   "name": "python",
   "nbconvert_exporter": "python",
   "pygments_lexer": "ipython3",
   "version": "3.8.13"
  },
  "orig_nbformat": 4
 },
 "nbformat": 4,
 "nbformat_minor": 2
}
