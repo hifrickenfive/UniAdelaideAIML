{
 "cells": [
  {
   "cell_type": "markdown",
   "metadata": {},
   "source": [
    "Problem Statement: We want to classify the degree of truth in the statements of influential people. The data contains the statement itself, the person, and meta-data about the topic, and polical affiliations. Each statement is labelled with six categories: 'barelyTrueCounts', 'falseCounts', 'halfTrueCounts', 'mostlyTrueCounts', 'pantsOnFireCounts', 'true'. We can frame this problem as a machine learning problem which has multiple classes."
   ]
  },
  {
   "cell_type": "markdown",
   "metadata": {},
   "source": [
    "# Import data"
   ]
  },
  {
   "cell_type": "code",
   "execution_count": 277,
   "metadata": {},
   "outputs": [],
   "source": [
    "import pandas as pd\n",
    "from typing import List\n",
    "\n",
    "train = pd.read_csv('liar_dataset/train.tsv', sep='\\t')\n",
    "train.columns = ['ID', 'label', 'statement', 'subject', 'speaker', 'spkrJobTitle', 'state', 'party', 'barelyTrueCounts', 'falseCounts', 'halfTrueCounts', 'mostlyTrueCounts', 'pantsOnFireCounts', 'context']\n",
    "\n",
    "test = pd.read_csv('liar_dataset/test.tsv', sep='\\t')\n",
    "test.columns = ['ID', 'label', 'statement', 'subject', 'speaker', 'spkrJobTitle', 'state', 'party', 'barelyTrueCounts', 'falseCounts', 'halfTrueCounts', 'mostlyTrueCounts', 'pantsOnFireCounts', 'context']\n",
    "\n",
    "val = pd.read_csv('liar_dataset/valid.tsv', sep='\\t')\n",
    "val.columns = ['ID', 'label', 'statement', 'subject', 'speaker', 'spkrJobTitle', 'state', 'party', 'barelyTrueCounts', 'falseCounts', 'halfTrueCounts', 'mostlyTrueCounts', 'pantsOnFireCounts', 'context']"
   ]
  },
  {
   "cell_type": "markdown",
   "metadata": {},
   "source": [
    "# 1 Conduct Exploratory Data Analysis"
   ]
  },
  {
   "cell_type": "markdown",
   "metadata": {},
   "source": [
    "## 1.1 Check dataframe info (Non-Nulls, Counts, Data types)"
   ]
  },
  {
   "cell_type": "code",
   "execution_count": 278,
   "metadata": {},
   "outputs": [
    {
     "name": "stdout",
     "output_type": "stream",
     "text": [
      "<class 'pandas.core.frame.DataFrame'>\n",
      "RangeIndex: 10239 entries, 0 to 10238\n",
      "Data columns (total 14 columns):\n",
      " #   Column             Non-Null Count  Dtype  \n",
      "---  ------             --------------  -----  \n",
      " 0   ID                 10239 non-null  object \n",
      " 1   label              10239 non-null  object \n",
      " 2   statement          10239 non-null  object \n",
      " 3   subject            10237 non-null  object \n",
      " 4   speaker            10237 non-null  object \n",
      " 5   spkrJobTitle       7342 non-null   object \n",
      " 6   state              8031 non-null   object \n",
      " 7   party              10237 non-null  object \n",
      " 8   barelyTrueCounts   10237 non-null  float64\n",
      " 9   falseCounts        10237 non-null  float64\n",
      " 10  halfTrueCounts     10237 non-null  float64\n",
      " 11  mostlyTrueCounts   10237 non-null  float64\n",
      " 12  pantsOnFireCounts  10237 non-null  float64\n",
      " 13  context            10137 non-null  object \n",
      "dtypes: float64(5), object(9)\n",
      "memory usage: 1.1+ MB\n"
     ]
    }
   ],
   "source": [
    "train.info()"
   ]
  },
  {
   "cell_type": "code",
   "execution_count": 279,
   "metadata": {},
   "outputs": [
    {
     "name": "stdout",
     "output_type": "stream",
     "text": [
      "<class 'pandas.core.frame.DataFrame'>\n",
      "RangeIndex: 1266 entries, 0 to 1265\n",
      "Data columns (total 14 columns):\n",
      " #   Column             Non-Null Count  Dtype \n",
      "---  ------             --------------  ----- \n",
      " 0   ID                 1266 non-null   object\n",
      " 1   label              1266 non-null   object\n",
      " 2   statement          1266 non-null   object\n",
      " 3   subject            1266 non-null   object\n",
      " 4   speaker            1266 non-null   object\n",
      " 5   spkrJobTitle       941 non-null    object\n",
      " 6   state              1004 non-null   object\n",
      " 7   party              1266 non-null   object\n",
      " 8   barelyTrueCounts   1266 non-null   int64 \n",
      " 9   falseCounts        1266 non-null   int64 \n",
      " 10  halfTrueCounts     1266 non-null   int64 \n",
      " 11  mostlyTrueCounts   1266 non-null   int64 \n",
      " 12  pantsOnFireCounts  1266 non-null   int64 \n",
      " 13  context            1249 non-null   object\n",
      "dtypes: int64(5), object(9)\n",
      "memory usage: 138.6+ KB\n"
     ]
    }
   ],
   "source": [
    "test.info()"
   ]
  },
  {
   "cell_type": "code",
   "execution_count": 280,
   "metadata": {},
   "outputs": [
    {
     "name": "stdout",
     "output_type": "stream",
     "text": [
      "<class 'pandas.core.frame.DataFrame'>\n",
      "RangeIndex: 1283 entries, 0 to 1282\n",
      "Data columns (total 14 columns):\n",
      " #   Column             Non-Null Count  Dtype \n",
      "---  ------             --------------  ----- \n",
      " 0   ID                 1283 non-null   object\n",
      " 1   label              1283 non-null   object\n",
      " 2   statement          1283 non-null   object\n",
      " 3   subject            1283 non-null   object\n",
      " 4   speaker            1283 non-null   object\n",
      " 5   spkrJobTitle       938 non-null    object\n",
      " 6   state              1004 non-null   object\n",
      " 7   party              1283 non-null   object\n",
      " 8   barelyTrueCounts   1283 non-null   int64 \n",
      " 9   falseCounts        1283 non-null   int64 \n",
      " 10  halfTrueCounts     1283 non-null   int64 \n",
      " 11  mostlyTrueCounts   1283 non-null   int64 \n",
      " 12  pantsOnFireCounts  1283 non-null   int64 \n",
      " 13  context            1271 non-null   object\n",
      "dtypes: int64(5), object(9)\n",
      "memory usage: 140.5+ KB\n"
     ]
    }
   ],
   "source": [
    "val.info()"
   ]
  },
  {
   "cell_type": "markdown",
   "metadata": {},
   "source": [
    "## 1.2 Check Nulls and Nans"
   ]
  },
  {
   "cell_type": "code",
   "execution_count": 281,
   "metadata": {},
   "outputs": [],
   "source": [
    "import seaborn as sns\n",
    "import matplotlib.pyplot as plt\n",
    "\n",
    "def PlotMissingData(df, dataName:str):\n",
    "    plt.figure(figsize=(12,6))\n",
    "    sns.heatmap(df.isna().transpose(),\n",
    "                cmap=\"YlGnBu\",\n",
    "                cbar_kws={'label': 'Missing Data'})\n",
    "    figName = 'missingData' + dataName + '.png'\n",
    "    plt.savefig(figName, dpi=100)\n",
    "    plt.title(figName, fontsize =20)\n",
    "    plt.show()"
   ]
  },
  {
   "cell_type": "code",
   "execution_count": 282,
   "metadata": {},
   "outputs": [
    {
     "data": {
      "image/png": "[encoded data removed]",
      "text/plain": [
       "<Figure size 864x432 with 2 Axes>"
      ]
     },
     "metadata": {
      "needs_background": "light"
     },
     "output_type": "display_data"
    },
    {
     "data": {
      "image/png": "[encoded data removed]",
      "text/plain": [
       "<Figure size 864x432 with 2 Axes>"
      ]
     },
     "metadata": {
      "needs_background": "light"
     },
     "output_type": "display_data"
    },
    {
     "data": {
      "image/png": "[encoded data removed]",
      "text/plain": [
       "<Figure size 864x432 with 2 Axes>"
      ]
     },
     "metadata": {
      "needs_background": "light"
     },
     "output_type": "display_data"
    }
   ],
   "source": [
    "PlotMissingData(train, 'train')\n",
    "PlotMissingData(test, 'test')\n",
    "PlotMissingData(val, 'val')"
   ]
  },
  {
   "cell_type": "code",
   "execution_count": 283,
   "metadata": {},
   "outputs": [
    {
     "name": "stdout",
     "output_type": "stream",
     "text": [
      "ID                      0\n",
      "label                   0\n",
      "statement               0\n",
      "subject                 2\n",
      "speaker                 2\n",
      "spkrJobTitle         2897\n",
      "state                2208\n",
      "party                   2\n",
      "barelyTrueCounts        2\n",
      "falseCounts             2\n",
      "halfTrueCounts          2\n",
      "mostlyTrueCounts        2\n",
      "pantsOnFireCounts       2\n",
      "context               102\n",
      "dtype: int64\n",
      "ID                     0\n",
      "label                  0\n",
      "statement              0\n",
      "subject                0\n",
      "speaker                0\n",
      "spkrJobTitle         325\n",
      "state                262\n",
      "party                  0\n",
      "barelyTrueCounts       0\n",
      "falseCounts            0\n",
      "halfTrueCounts         0\n",
      "mostlyTrueCounts       0\n",
      "pantsOnFireCounts      0\n",
      "context               17\n",
      "dtype: int64\n",
      "ID                     0\n",
      "label                  0\n",
      "statement              0\n",
      "subject                0\n",
      "speaker                0\n",
      "spkrJobTitle         345\n",
      "state                279\n",
      "party                  0\n",
      "barelyTrueCounts       0\n",
      "falseCounts            0\n",
      "halfTrueCounts         0\n",
      "mostlyTrueCounts       0\n",
      "pantsOnFireCounts      0\n",
      "context               12\n",
      "dtype: int64\n"
     ]
    }
   ],
   "source": [
    "# Count Nulls\n",
    "trainMissing = train.isnull().sum()\n",
    "testMissing = test.isnull().sum()\n",
    "valMissing = val.isnull().sum()\n",
    "\n",
    "print(trainMissing)\n",
    "print(testMissing)\n",
    "print(valMissing)"
   ]
  },
  {
   "cell_type": "markdown",
   "metadata": {},
   "source": [
    "## 1.3 Check duplicates"
   ]
  },
  {
   "cell_type": "code",
   "execution_count": 284,
   "metadata": {},
   "outputs": [
    {
     "name": "stdout",
     "output_type": "stream",
     "text": [
      "Duplicates in Train:0, Test:0, Val:0\n"
     ]
    }
   ],
   "source": [
    "def CheckDuplicateIDs(df):\n",
    "    duplicateIDs = []\n",
    "    for count in df.ID.value_counts():\n",
    "        if count > 1:\n",
    "            duplicateIDs.append(df.ID)\n",
    "    if duplicateIDs:\n",
    "        return duplicateIDs\n",
    "    else:\n",
    "        return 0\n",
    "\n",
    "duplicateTrainIDs = CheckDuplicateIDs(train)\n",
    "duplicateTestIDs = CheckDuplicateIDs(test)\n",
    "duplicateValIDs = CheckDuplicateIDs(val)\n",
    "print(f'Duplicates in Train:{duplicateTrainIDs}, Test:{duplicateTestIDs}, Val:{duplicateValIDs}')\n"
   ]
  },
  {
   "cell_type": "markdown",
   "metadata": {},
   "source": [
    "## 1.4 Check Quantitative\n"
   ]
  },
  {
   "cell_type": "code",
   "execution_count": 285,
   "metadata": {},
   "outputs": [
    {
     "data": {
      "text/plain": [
       "(array([2114.,    0., 1962.,    0., 1994.,    0., 1676.,    0., 1654.,\n",
       "         839.]),\n",
       " array([0. , 0.5, 1. , 1.5, 2. , 2.5, 3. , 3.5, 4. , 4.5, 5. ]),\n",
       " <BarContainer object of 10 artists>)"
      ]
     },
     "execution_count": 285,
     "metadata": {},
     "output_type": "execute_result"
    },
    {
     "data": {
      "image/png": "[encoded data removed]",
      "text/plain": [
       "<Figure size 432x288 with 1 Axes>"
      ]
     },
     "metadata": {
      "needs_background": "light"
     },
     "output_type": "display_data"
    }
   ],
   "source": [
    "plt.hist(train['label']) # Pants-fire has 750 counts vs. the other classes which have approx 1500-2000 counts."
   ]
  },
  {
   "cell_type": "markdown",
   "metadata": {},
   "source": [
    "## 1.5 Check Qualitative"
   ]
  },
  {
   "cell_type": "code",
   "execution_count": 286,
   "metadata": {},
   "outputs": [
    {
     "name": "stdout",
     "output_type": "stream",
     "text": [
      "Unique speakers: 2909 \n",
      "\n",
      "Percent unique speakers vs. all train data: 0.28 \n",
      "\n",
      "barack-obama                                   488\n",
      "donald-trump                                   273\n",
      "hillary-clinton                                239\n",
      "mitt-romney                                    176\n",
      "scott-walker                                   149\n",
      "                                              ... \n",
      "kai-degner                                       1\n",
      "lorraine-fende                                   1\n",
      "nfederation-o-independent-business-virginia      1\n",
      "jim-moore                                        1\n",
      "alan-powell                                      1\n",
      "Name: speaker, Length: 2909, dtype: int64\n"
     ]
    }
   ],
   "source": [
    "print(f\"Unique speakers: {train['speaker'].nunique()} \\n\")\n",
    "print(f\"Percent unique speakers vs. all train data: {train['speaker'].nunique() / len(train):.2f} \\n\")\n",
    "print(train['speaker'].value_counts())"
   ]
  },
  {
   "cell_type": "markdown",
   "metadata": {},
   "source": [
    "# 2 Preprocess "
   ]
  },
  {
   "cell_type": "markdown",
   "metadata": {},
   "source": [
    "## 2.1 Get Unique List of Subjects, Contexts, Speakers"
   ]
  },
  {
   "cell_type": "code",
   "execution_count": 287,
   "metadata": {},
   "outputs": [],
   "source": [
    "listOfSubjects = list(train['subject'])"
   ]
  },
  {
   "cell_type": "code",
   "execution_count": 288,
   "metadata": {},
   "outputs": [],
   "source": [
    "from collections import defaultdict\n",
    "import itertools\n",
    "import operator\n",
    "\n",
    "def CountListOfList(listOfList):\n",
    "    countDict = defaultdict(int)\n",
    "    for subjects in train['subject'].items():\n",
    "        for subject in subjects:\n",
    "            countDict[subject] += 1\n",
    "    sortedCount = dict(sorted(countDict.items(), key=operator.itemgetter(1),reverse=True))\n",
    "\n",
    "    return sortedCount"
   ]
  },
  {
   "cell_type": "code",
   "execution_count": 289,
   "metadata": {},
   "outputs": [
    {
     "data": {
      "text/plain": [
       "<BarContainer object of 20 artists>"
      ]
     },
     "execution_count": 289,
     "metadata": {},
     "output_type": "execute_result"
    },
    {
     "data": {
      "image/png": "[encoded data removed]",
      "text/plain": [
       "<Figure size 432x288 with 1 Axes>"
      ]
     },
     "metadata": {
      "needs_background": "light"
     },
     "output_type": "display_data"
    }
   ],
   "source": [
    "subjects = CountListOfList(listOfSubjects)\n",
    "top20subjects = dict(itertools.islice(subjects.items(), 20)) # Get top 20 topics\n",
    "plt.xticks(rotation='vertical')\n",
    "plt.bar(top20subjects.keys(), top20subjects.values())"
   ]
  },
  {
   "cell_type": "markdown",
   "metadata": {},
   "source": [
    "## 2.2 Process each statement"
   ]
  },
  {
   "cell_type": "code",
   "execution_count": 290,
   "metadata": {},
   "outputs": [
    {
     "name": "stderr",
     "output_type": "stream",
     "text": [
      "[nltk_data] Downloading package stopwords to\n",
      "[nltk_data]     C:\\Users\\jason\\AppData\\Roaming\\nltk_data...\n",
      "[nltk_data]   Package stopwords is already up-to-date!\n",
      "[nltk_data] Downloading package punkt to\n",
      "[nltk_data]     C:\\Users\\jason\\AppData\\Roaming\\nltk_data...\n",
      "[nltk_data]   Package punkt is already up-to-date!\n"
     ]
    },
    {
     "data": {
      "text/plain": [
       "True"
      ]
     },
     "execution_count": 290,
     "metadata": {},
     "output_type": "execute_result"
    }
   ],
   "source": [
    "import nltk\n",
    "import re\n",
    "from nltk.corpus import stopwords\n",
    "from nltk.stem.snowball import SnowballStemmer\n",
    "\n",
    "nltk.download('stopwords')\n",
    "nltk.download('punkt')"
   ]
  },
  {
   "cell_type": "code",
   "execution_count": 291,
   "metadata": {},
   "outputs": [],
   "source": [
    "def RemovePunctuation(sentence: str, punctuations: str) -> str:\n",
    "    noPunctuation = \"\"\n",
    "    for char in sentence:\n",
    "        if char not in punctuations:\n",
    "            noPunctuation = noPunctuation + char\n",
    "    return noPunctuation"
   ]
  },
  {
   "cell_type": "code",
   "execution_count": 292,
   "metadata": {},
   "outputs": [],
   "source": [
    "def ProcessStatement(statements: List[str], punctuations: str, cachedStopWords: List, snowballStemmer: SnowballStemmer, stem=True) -> List[str]:\n",
    "\n",
    "    processedStatements = []\n",
    "    for statement in statements:\n",
    "        # Make lower case\n",
    "        _statement = statement.lower()\n",
    "\n",
    "        # Remove punctuation\n",
    "        _statement = RemovePunctuation(_statement, punctuations)\n",
    "        \n",
    "        # Remove numbers\n",
    "        _statement  = re.sub('\\w*\\d\\w*', '', _statement) \n",
    "\n",
    "        # Split/Tokenise\n",
    "        _statement = _statement.split(' ') \n",
    "\n",
    "        _wordlist = []\n",
    "        for word in _statement:\n",
    "            # Exclude stop word. Exclude one-letter words\n",
    "            if not word in cachedStopWords and len(word) > 1:\n",
    "                # Stem the word\n",
    "                if stem:\n",
    "                    _wordlist.append(snowballStemmer.stem(word))\n",
    "                else:\n",
    "                    _wordlist.append(word)\n",
    "        processedStatements.append(_wordlist)\n",
    "    \n",
    "    return processedStatements"
   ]
  },
  {
   "cell_type": "code",
   "execution_count": 293,
   "metadata": {},
   "outputs": [],
   "source": [
    "cachedStopWords = stopwords.words(\"english\")\n",
    "punctuations = '''!()-[]{};:'\"\\,<>./?@#$%^&*_~'''\n",
    "snowballStemmer = SnowballStemmer('english')\n",
    "\n",
    "statements = [list(train['statement']), list(val['statement']), list(test['statement'])]\n",
    "\n",
    "trainWordsStemmed   = ProcessStatement(statements[0], punctuations, cachedStopWords, snowballStemmer, stem=True)\n",
    "trainWordsUnstemmed = ProcessStatement(statements[0], punctuations, cachedStopWords, snowballStemmer, stem=False)\n",
    "\n",
    "valWordsStemmed   = ProcessStatement(statements[1], punctuations, cachedStopWords, snowballStemmer, stem=True)\n",
    "valWordsUnstemmed = ProcessStatement(statements[1], punctuations, cachedStopWords, snowballStemmer, stem=False)\n",
    "\n",
    "testWordsStemmed    = ProcessStatement(statements[2], punctuations, cachedStopWords, snowballStemmer, stem=True)\n",
    "testWordsUnstemmed  = ProcessStatement(statements[2], punctuations, cachedStopWords, snowballStemmer, stem=False)"
   ]
  },
  {
   "cell_type": "code",
   "execution_count": 294,
   "metadata": {},
   "outputs": [],
   "source": [
    "train['wordsStemmed'] = trainWordsStemmed\n",
    "train['wordsUnstemmed'] = trainWordsUnstemmed\n",
    "val['wordsStemmed'] = valWordsStemmed\n",
    "val['wordsUnstemmed'] = valWordsUnstemmed\n",
    "test['wordsStemmed'] = testWordsStemmed\n",
    "test['wordsUnstemmed'] = testWordsUnstemmed"
   ]
  },
  {
   "cell_type": "markdown",
   "metadata": {},
   "source": [
    "## 2.3 One hot encode some of the MetaData"
   ]
  },
  {
   "cell_type": "code",
   "execution_count": 295,
   "metadata": {},
   "outputs": [],
   "source": [
    "speakerOhe = pd.get_dummies(train['speaker']) \n",
    "partyOhe = pd.get_dummies(train['party'])"
   ]
  },
  {
   "cell_type": "markdown",
   "metadata": {},
   "source": [
    "# 3 Feature Engineering"
   ]
  },
  {
   "cell_type": "markdown",
   "metadata": {},
   "source": [
    "## 3.1 Embed using Word2Vec"
   ]
  },
  {
   "cell_type": "code",
   "execution_count": 296,
   "metadata": {},
   "outputs": [
    {
     "name": "stdout",
     "output_type": "stream",
     "text": [
      "done loading Word2Vec\n"
     ]
    }
   ],
   "source": [
    "from gensim.models import Word2Vec, KeyedVectors\n",
    "pretrainedpath = \"GoogleNews-vectors-negative300.bin\"\n",
    "w2vModel = KeyedVectors.load_word2vec_format(pretrainedpath,binary=True)\n",
    "print('done loading Word2Vec')"
   ]
  },
  {
   "cell_type": "code",
   "execution_count": 297,
   "metadata": {},
   "outputs": [],
   "source": [
    "def EmbedWords(processedStatements: List[List]) -> List:\n",
    "    \"\"\"Averages word embeddings in a sentence to return a word vector\"\"\"\n",
    "    DIMENSION = 300\n",
    "    zeroVector = np.zeros(DIMENSION)\n",
    "    wordVectors = []\n",
    "    excludedWordCount = 0\n",
    "    excludedWords = []\n",
    "    totalCount = 0\n",
    "\n",
    "    for tokens in processedStatements:\n",
    "        currentVector = zeroVector\n",
    "        tokenCount = 0\n",
    "        for token in tokens:\n",
    "            totalCount += 1\n",
    "            if token in w2vModel:\n",
    "                currentVector += w2vModel[token]\n",
    "                tokenCount += 1\n",
    "            else:\n",
    "                excludedWordCount += 1\n",
    "                excludedWords.append(token)\n",
    "        wordVectors.append(currentVector/tokenCount)\n",
    "    return wordVectors, (excludedWords, excludedWordCount/totalCount)"
   ]
  },
  {
   "cell_type": "code",
   "execution_count": 298,
   "metadata": {},
   "outputs": [],
   "source": [
    "# Need to use unstemmed words to match the words in word2vec \"GoogleNews-vectors-negative300.bin\" model\n",
    "trainVec, trainVecLog = EmbedWords(train['wordsUnstemmed']) # 3% of token words excluded. Acceptable.\n",
    "valVec, valVecLog = EmbedWords(val['wordsUnstemmed']) # 3% of token words excluded. Acceptable.\n",
    "testVec, testVecLog = EmbedWords(test['wordsUnstemmed']) # 3% of token words excluded. Acceptable."
   ]
  },
  {
   "cell_type": "markdown",
   "metadata": {},
   "source": [
    "# 4 Train Multiclass Classifiers"
   ]
  },
  {
   "cell_type": "code",
   "execution_count": 299,
   "metadata": {},
   "outputs": [],
   "source": [
    "# Randomise rows of data\n",
    "train = train.sample(frac=1).reset_index(drop=True)\n",
    "test = test.sample(frac=1).reset_index(drop=True)\n",
    "val = val.sample(frac=1).reset_index(drop=True)"
   ]
  },
  {
   "cell_type": "markdown",
   "metadata": {},
   "source": [
    "## 4.1 Baseline Models (Bag of Words)"
   ]
  },
  {
   "cell_type": "code",
   "execution_count": 300,
   "metadata": {},
   "outputs": [],
   "source": [
    "from sklearn.linear_model import LogisticRegression\n",
    "from sklearn import naive_bayes\n",
    "from sklearn.neighbors import KNeighborsClassifier\n",
    "from sklearn.feature_extraction.text import CountVectorizer\n",
    "from sklearn.feature_extraction.text import TfidfVectorizer\n",
    "from nltk.tokenize import word_tokenize\n",
    "from sklearn import metrics"
   ]
  },
  {
   "cell_type": "code",
   "execution_count": 316,
   "metadata": {},
   "outputs": [],
   "source": [
    "def trainBaselineModels(xTrain, yTrain, xVal, yVal, xTest, yTest):\n",
    "    # Initialise models\n",
    "    models = [naive_bayes.MultinomialNB(), KNeighborsClassifier(), LogisticRegression(C=1.0, max_iter=10000)]\n",
    "    modelName = ['NB MultiNomninal', 'KNN', 'Logistic']\n",
    "\n",
    "    accuracies = []\n",
    "    for model in models:\n",
    "\n",
    "        # Fit model on training data and labels\n",
    "        model.fit(xTrain, yTrain)\n",
    "\n",
    "        # Predict on test data\n",
    "        predictions = model.predict(xVal)\n",
    "\n",
    "        # Check accuracy\n",
    "        accuracy = metrics.accuracy_score(yVal, predictions)\n",
    "        accuracies.append(accuracy)\n",
    "\n",
    "    # Print Accuracy\n",
    "    for i in range(3):\n",
    "        print(f'{modelName[i]} Validation accuracy: {accuracies[i]:.2f}')\n",
    "    print('Choose Logistics because highest validation accuracy')\n",
    "\n",
    "    # Predict on Test Data\n",
    "    yPred = model.predict(xTest)\n",
    "    testAccuracy = metrics.accuracy_score(yTest, yPred)\n",
    "    print(f'\\nPredict on Test Data...accuracy: {testAccuracy:.2f}')\n",
    "    \n",
    "    # Evaluate Precision, Recall, F1-Score for Logistic\n",
    "    print('\\n Classification Report for Predictions on Test Data with Logistic Model')\n",
    "    print(metrics.classification_report(yTest, yPred))\n",
    "\n",
    "    # Evaluate Confusion Matrix for Logistic\n",
    "    print('\\n Confusion Matrix for Predictions on Test Data with Logistic Model')\n",
    "    cmDisp = metrics.ConfusionMatrixDisplay.from_predictions(yTest, yPred, xticks_rotation='vertical')\n"
   ]
  },
  {
   "cell_type": "markdown",
   "metadata": {},
   "source": [
    "### 4.1.1 CountVectorizer"
   ]
  },
  {
   "cell_type": "code",
   "execution_count": 315,
   "metadata": {},
   "outputs": [
    {
     "name": "stdout",
     "output_type": "stream",
     "text": [
      "NB MultiNomninal Validation accuracy: 0.25\n",
      "KNN Validation accuracy: 0.23\n",
      "Logistic Validation accuracy: 0.25\n",
      "Choose Logistics because highest validation accuracy\n",
      "\n",
      "Predict on Test Data...accuracy: 0.24170616113744076\n",
      "\n",
      " Classification Report for Predictions on Test Data with Logistic Model\n",
      "              precision    recall  f1-score   support\n",
      "\n",
      " barely-true       0.23      0.21      0.22       212\n",
      "       false       0.27      0.30      0.28       249\n",
      "   half-true       0.24      0.22      0.23       265\n",
      " mostly-true       0.23      0.24      0.24       241\n",
      "  pants-fire       0.23      0.17      0.20        92\n",
      "        true       0.24      0.26      0.25       207\n",
      "\n",
      "    accuracy                           0.24      1266\n",
      "   macro avg       0.24      0.23      0.24      1266\n",
      "weighted avg       0.24      0.24      0.24      1266\n",
      "\n",
      "\n",
      " Confusion Matrix for Predictions on Test Data with Logistic Model\n"
     ]
    },
    {
     "data": {
      "image/png": "[encoded data removed]",
      "text/plain": [
       "<Figure size 432x288 with 2 Axes>"
      ]
     },
     "metadata": {
      "needs_background": "light"
     },
     "output_type": "display_data"
    }
   ],
   "source": [
    "# Initialise count vectorizer to model 'Bag of Words' with tokenization (keeps punctuation)\n",
    "countVec = CountVectorizer(tokenizer=word_tokenize, token_pattern=None)\n",
    "\n",
    "# Fit vectorizer to the corpus\n",
    "countVec.fit(train['statement'])\n",
    "\n",
    "# Transform training and val statements\n",
    "xTrain = countVec.transform(train['statement'])\n",
    "xVal = countVec.transform(val['statement'])\n",
    "xTest = countVec.transform(test['statement'])\n",
    "\n",
    "trainBaselineModels(xTrain, train['label'], xVal, val['label'], xTest, test['label'])"
   ]
  },
  {
   "cell_type": "markdown",
   "metadata": {},
   "source": [
    "### 4.1.2 TfidVectorizer (replaces counts with floats)"
   ]
  },
  {
   "cell_type": "code",
   "execution_count": 317,
   "metadata": {},
   "outputs": [
    {
     "name": "stdout",
     "output_type": "stream",
     "text": [
      "NB MultiNomninal Validation accuracy: 0.24\n",
      "KNN Validation accuracy: 0.22\n",
      "Logistic Validation accuracy: 0.25\n",
      "Choose Logistics because highest validation accuracy\n",
      "\n",
      "Predict on Test Data...accuracy: 0.25\n",
      "\n",
      " Classification Report for Predictions on Test Data with Logistic Model\n",
      "              precision    recall  f1-score   support\n",
      "\n",
      " barely-true       0.25      0.18      0.21       212\n",
      "       false       0.28      0.35      0.31       249\n",
      "   half-true       0.22      0.29      0.25       265\n",
      " mostly-true       0.24      0.25      0.25       241\n",
      "  pants-fire       0.36      0.04      0.08        92\n",
      "        true       0.27      0.25      0.26       207\n",
      "\n",
      "    accuracy                           0.25      1266\n",
      "   macro avg       0.27      0.23      0.23      1266\n",
      "weighted avg       0.26      0.25      0.24      1266\n",
      "\n",
      "\n",
      " Confusion Matrix for Predictions on Test Data with Logistic Model\n"
     ]
    },
    {
     "data": {
      "image/png": "[encoded data removed]",
      "text/plain": [
       "<Figure size 432x288 with 2 Axes>"
      ]
     },
     "metadata": {
      "needs_background": "light"
     },
     "output_type": "display_data"
    }
   ],
   "source": [
    "# Initialise count vectorizer to model 'Bag of Words' with tokenization (keeps punctuation)\n",
    "tfv = TfidfVectorizer(tokenizer=word_tokenize, token_pattern=None)\n",
    "\n",
    "# Fit vectorizer to the corpus\n",
    "tfv.fit(train['statement'])\n",
    "\n",
    "# Transform training and val statements\n",
    "xTrain = tfv.transform(train['statement'])\n",
    "xVal= tfv.transform(val['statement'])\n",
    "xTest = tfv.transform(test['statement'])\n",
    "\n",
    "trainBaselineModels(xTrain, train['label'], xVal, val['label'], xTest, test['label'])"
   ]
  },
  {
   "cell_type": "markdown",
   "metadata": {},
   "source": [
    "### 4.1.3 Ngram range 1 to 3"
   ]
  },
  {
   "cell_type": "code",
   "execution_count": 319,
   "metadata": {},
   "outputs": [
    {
     "name": "stdout",
     "output_type": "stream",
     "text": [
      "NB MultiNomninal Validation accuracy: 0.24\n",
      "KNN Validation accuracy: 0.25\n",
      "Logistic Validation accuracy: 0.26\n",
      "Choose Logistics because highest validation accuracy\n",
      "\n",
      "Predict on Test Data...accuracy: 0.25\n",
      "\n",
      " Classification Report for Predictions on Test Data with Logistic Model\n",
      "              precision    recall  f1-score   support\n",
      "\n",
      " barely-true       0.27      0.14      0.19       212\n",
      "       false       0.28      0.35      0.31       249\n",
      "   half-true       0.23      0.37      0.29       265\n",
      " mostly-true       0.23      0.28      0.25       241\n",
      "  pants-fire       0.00      0.00      0.00        92\n",
      "        true       0.26      0.17      0.21       207\n",
      "\n",
      "    accuracy                           0.25      1266\n",
      "   macro avg       0.21      0.22      0.21      1266\n",
      "weighted avg       0.24      0.25      0.23      1266\n",
      "\n",
      "\n",
      " Confusion Matrix for Predictions on Test Data with Logistic Model\n"
     ]
    },
    {
     "name": "stderr",
     "output_type": "stream",
     "text": [
      "C:\\Users\\jason\\anaconda3\\envs\\uni_adelaide_keras\\lib\\site-packages\\sklearn\\metrics\\_classification.py:1318: UndefinedMetricWarning: Precision and F-score are ill-defined and being set to 0.0 in labels with no predicted samples. Use `zero_division` parameter to control this behavior.\n",
      "  _warn_prf(average, modifier, msg_start, len(result))\n",
      "C:\\Users\\jason\\anaconda3\\envs\\uni_adelaide_keras\\lib\\site-packages\\sklearn\\metrics\\_classification.py:1318: UndefinedMetricWarning: Precision and F-score are ill-defined and being set to 0.0 in labels with no predicted samples. Use `zero_division` parameter to control this behavior.\n",
      "  _warn_prf(average, modifier, msg_start, len(result))\n",
      "C:\\Users\\jason\\anaconda3\\envs\\uni_adelaide_keras\\lib\\site-packages\\sklearn\\metrics\\_classification.py:1318: UndefinedMetricWarning: Precision and F-score are ill-defined and being set to 0.0 in labels with no predicted samples. Use `zero_division` parameter to control this behavior.\n",
      "  _warn_prf(average, modifier, msg_start, len(result))\n"
     ]
    },
    {
     "data": {
      "image/png": "[encoded data removed]",
      "text/plain": [
       "<Figure size 432x288 with 2 Axes>"
      ]
     },
     "metadata": {
      "needs_background": "light"
     },
     "output_type": "display_data"
    }
   ],
   "source": [
    "# Initialise count vectorizer to model 'Bag of Words' with tokenization (keeps punctuation). Specifically try ngrams ranges 1 to 3\n",
    "tfv = TfidfVectorizer(tokenizer=word_tokenize,token_pattern=None,ngram_range=(1, 3))\n",
    "\n",
    "# Fit vectorizer to the corpus\n",
    "tfv.fit(train['statement'])\n",
    "\n",
    "# Transform training and val statements\n",
    "xTrain = tfv.transform(train['statement'])\n",
    "xVal = tfv.transform(val['statement'])\n",
    "xTest = tfv.transform(test['statement'])\n",
    "\n",
    "trainBaselineModels(xTrain, train['label'], xVal, val['label'], xTest, test['label'])"
   ]
  },
  {
   "cell_type": "markdown",
   "metadata": {},
   "source": [
    "## 4.2 Use Baseline Models but with Word2Vec Instead"
   ]
  },
  {
   "cell_type": "code",
   "execution_count": 321,
   "metadata": {},
   "outputs": [
    {
     "name": "stdout",
     "output_type": "stream",
     "text": [
      "Models: Logistic, KNN\n",
      "Accuracy = 0.19\n",
      "Accuracy = 0.19\n"
     ]
    }
   ],
   "source": [
    "# Use the Word2Vec embedding created earlier. Note: NaiveBayes doesn't work with negative numbers\n",
    "models = [LogisticRegression(C=1.0, max_iter=10000), KNeighborsClassifier()]\n",
    "print(f'Models: Logistic, KNN')\n",
    "\n",
    "for model in models:\n",
    "\n",
    "    # Fit model on training data and labels\n",
    "    model.fit(trainVec, train['label'])\n",
    "\n",
    "    # Evaluate on val data\n",
    "    predictions = model.predict(valVec)\n",
    "\n",
    "    # Check accuracy\n",
    "    accuracy = metrics.accuracy_score(val['label'], predictions)\n",
    "    print(f\"Accuracy = {accuracy:.2f}\")\n",
    "\n",
    "print('Choose Logistics because highest validation accuracy')\n",
    "\n",
    "# Predict on Test Data\n",
    "yPred = model.predict(testVec)\n",
    "testAccuracy = metrics.accuracy_score(test['label'], yPred)\n",
    "print(f'\\nPredict on Test Data...accuracy: {testAccuracy:.2f}')\n",
    "\n",
    "# Evaluate Precision, Recall, F1-Score for Logistic\n",
    "print('\\n Classification Report for Predictions on Test Data with Logistic Model')\n",
    "print(metrics.classification_report(test['label'], yPred))\n",
    "\n",
    "# Evaluate Confusion Matrix for Logistic\n",
    "print('\\n Confusion Matrix for Predictions on Test Data with Logistic Model')\n",
    "cmDisp = metrics.ConfusionMatrixDisplay.from_predictions(test['label'], yPred, xticks_rotation='vertical')"
   ]
  },
  {
   "cell_type": "markdown",
   "metadata": {},
   "source": [
    "# 4.3 Deep learning: LSTM Model\n",
    "For word embeddings use one of the following options: embedding layer in Keras, Word2Vec, GloVE. You have the freedom to pick your own deep learning architecture.\n",
    "- Most common architectures are CNNs and RNNs. LSTMs are a popular form of RNN.\n",
    "- LSTMs are popular because they handle sequential data whereas CNNs don't.\n",
    "- Recent approachs also involve starting with large, pre-trained language model and fine-tuning them for the task at hand."
   ]
  },
  {
   "cell_type": "code",
   "execution_count": null,
   "metadata": {},
   "outputs": [],
   "source": [
    "import keras\n",
    "import tensorflow\n",
    "from sklearn.preprocessing import LabelEncoder\n",
    "from tensorflow.keras.utils import to_categorical # This is now fully integrated into tensorflow\n",
    "from keras.initializers import Constant\n",
    "from keras.preprocessing.text import Tokenizer\n",
    "from keras.preprocessing.sequence import pad_sequences\n",
    "from keras.layers import Dense, Input, GlobalMaxPooling1D\n",
    "from keras.layers import Embedding, LSTM\n",
    "from keras.models import Sequential\n",
    "from keras import layers"
   ]
  },
  {
   "cell_type": "markdown",
   "metadata": {},
   "source": [
    "### 4.3.1 Word Embedding for LSTM\n",
    "1. tokenise the texts and convert into word index vectors\n",
    "1. Pad the text sequence so that all texts are the same length\n",
    "1. Map every word index to an embedding vector by multiplying word index vectors with the embedding matrix (pre-trained embeddings or custom embedding)"
   ]
  },
  {
   "cell_type": "code",
   "execution_count": null,
   "metadata": {},
   "outputs": [],
   "source": [
    "# Define constants for the LSTM\n",
    "MARGIN = 1\n",
    "maxStatement = max(train['statement'].max(), test['statement'].max())\n",
    "MAX_SEQUENCE_LENGTH = len(maxStatement) * MARGIN\n",
    "MAX_NUM_WORDS = len(maxStatement.split()) * MARGIN\n",
    "EMBEDDING_DIM = 100\n",
    "\n",
    "print(f'Longest statement: {maxStatement}')\n",
    "print(f'Max sequence length: {len(maxStatement)}, Max words: {len(maxStatement.split())}')\n",
    "print(f'MAX_SEQUENCE_LENGTH: {MAX_SEQUENCE_LENGTH}, MAX_NUM_WORDS: {MAX_NUM_WORDS}')"
   ]
  },
  {
   "cell_type": "code",
   "execution_count": null,
   "metadata": {},
   "outputs": [],
   "source": [
    "# Convert labels from categoricals to one hot encoded columns\n",
    "le = LabelEncoder()\n",
    "le.fit(train['label'])\n",
    "labelMap = dict(zip(le.classes_, le.transform(le.classes_))) \n",
    "print(f'Label Map: {labelMap}')\n",
    "\n",
    "# Convert String labels to Integers\n",
    "yTrainIntClass = le.transform(train['label'])\n",
    "yTestIntClass = le.transform(test['label'])\n",
    "yValIntClass = le.transform(val['label'])\n",
    "labelMapIntAsKey = {value:key for key, value in labelMap.items()} # Make integer keys and strings the values. Used in metrics\n",
    "\n",
    "# Convert to OHE\n",
    "NUM_CLASSES = len(labelMap)\n",
    "yTrain = to_categorical(yTrainIntClass, NUM_CLASSES)\n",
    "yTest = to_categorical(yTestIntClass, NUM_CLASSES)\n",
    "yVal = to_categorical(yValIntClass, NUM_CLASSES)"
   ]
  },
  {
   "cell_type": "code",
   "execution_count": null,
   "metadata": {},
   "outputs": [],
   "source": [
    "# Create Word Index\n",
    "tokenizer = Tokenizer(num_words=MAX_NUM_WORDS)\n",
    "tokenizer.fit_on_texts(train['statement'])\n",
    "trainSequences = tokenizer.texts_to_sequences(train['statement'])\n",
    "testSequences = tokenizer.texts_to_sequences(test['statement'])\n",
    "valSequences = tokenizer.texts_to_sequences(val['statement'])\n",
    "wordIndex = tokenizer.word_index\n",
    "\n",
    "# Pad sequences with zeros until max sequence length\n",
    "trainData = pad_sequences(trainSequences, maxlen=MAX_SEQUENCE_LENGTH) \n",
    "testData = pad_sequences(testSequences, maxlen=MAX_SEQUENCE_LENGTH)\n",
    "valData = pad_sequences(valSequences, maxlen=MAX_SEQUENCE_LENGTH)"
   ]
  },
  {
   "cell_type": "code",
   "execution_count": null,
   "metadata": {},
   "outputs": [],
   "source": [
    "# Use Stanford Glove to create\n",
    "embeddingDict = {}\n",
    "with open('glove.6B.100d.txt', encoding=\"utf8\") as f:\n",
    "    for line in f:\n",
    "        values = line.split()\n",
    "        word = values[0]\n",
    "        embeddingDict[word] = np.asarray(values[1:], dtype='float32')\n",
    "        numWords = min(MAX_NUM_WORDS, len(wordIndex)) + 1\n",
    "        embeddingMatrix = np.zeros((numWords, EMBEDDING_DIM))\n",
    "        \n",
    "for word, i in wordIndex.items():\n",
    "    if i > MAX_NUM_WORDS:\n",
    "        continue\n",
    "    embeddingVec = embeddingDict.get(word)\n",
    "    if embeddingVec is not None:\n",
    "        embeddingMatrix[i] = embeddingVec"
   ]
  },
  {
   "cell_type": "code",
   "execution_count": null,
   "metadata": {},
   "outputs": [],
   "source": [
    "# Create Embedding Layer\n",
    "embeddingLayer = Embedding(MAX_NUM_WORDS, EMBEDDING_DIM, embeddings_initializer=Constant(embeddingMatrix), input_length=MAX_SEQUENCE_LENGTH, trainable=False)"
   ]
  },
  {
   "cell_type": "markdown",
   "metadata": {},
   "source": [
    "## 4.3.2 Create Deep Learning Architecture\n",
    "You have the freedom to pick your own deep learning architecture."
   ]
  },
  {
   "cell_type": "code",
   "execution_count": null,
   "metadata": {},
   "outputs": [],
   "source": [
    "# Set up plots\n",
    "def PlotHistory(model):\n",
    "    plt.plot(result.history['accuracy'])\n",
    "    plt.plot(result.history['val_accuracy'])\n",
    "    plt.title('Model accuracy')\n",
    "    plt.ylabel('Accuracy')\n",
    "    plt.xlabel('Epoch')\n",
    "    plt.legend(['Train', 'Val'], loc='upper right')\n",
    "    plt.show()\n",
    "\n",
    "    plt.plot(result.history['loss'])\n",
    "    plt.plot(result.history['val_loss'])\n",
    "    plt.title('Model loss')\n",
    "    plt.ylabel('Loss')\n",
    "    plt.xlabel('Epoch')\n",
    "    plt.legend(['Train', 'Val'], loc='upper right')\n",
    "    plt.show()"
   ]
  },
  {
   "cell_type": "code",
   "execution_count": null,
   "metadata": {},
   "outputs": [],
   "source": [
    "# Create Deep Learning Network\n",
    "myLSTM1 = Sequential()\n",
    "myLSTM1.add(Embedding(MAX_NUM_WORDS, 128))\n",
    "myLSTM1.add(LSTM(128, dropout=0.2, recurrent_dropout=0.2, return_sequences=True))\n",
    "myLSTM1.add(LSTM(128, dropout=0.2, recurrent_dropout=0.2, return_sequences=True))\n",
    "myLSTM1.add(LSTM(128, dropout=0.2, recurrent_dropout=0.2))\n",
    "myLSTM1.add(Dense(20, activation='sigmoid'))\n",
    "myLSTM1.add(Dense(6, activation='sigmoid'))\n",
    "myLSTM1.compile(loss='binary_crossentropy', optimizer='adam', metrics=['accuracy'])\n",
    "\n",
    "# Train The Model\n",
    "print('\\nTraining the model...')\n",
    "result = myLSTM1.fit(trainData, yTrain, batch_size=32, epochs=3, validation_data=(valData, yVal))\n",
    "\n",
    "# Check Accuracy on Test\n",
    "score, acc = myLSTM1.evaluate(testData, yTest, batch_size=32)\n",
    "print('\\nTesting Model...')\n",
    "print(f'LSTM predication accuracy on Test Data: {acc:.2f}')"
   ]
  },
  {
   "cell_type": "code",
   "execution_count": null,
   "metadata": {},
   "outputs": [],
   "source": [
    "PlotHistory(result)"
   ]
  },
  {
   "cell_type": "markdown",
   "metadata": {},
   "source": [
    "# 5 Hyperparameter tuning\n",
    "In machine learning, hyperparameter tuning is the problem of choosing a set of optimal\n",
    "hyperparameters for a learning algorithm. In this step, select one or two parameters and\n",
    "optimise them to further improve the performance of your LSTM model."
   ]
  },
  {
   "cell_type": "markdown",
   "metadata": {},
   "source": [
    "## 5.1 Change number of epochs from 3 to 7"
   ]
  },
  {
   "cell_type": "code",
   "execution_count": null,
   "metadata": {},
   "outputs": [],
   "source": [
    "# Create Deep Learning Network\n",
    "myLSTM2 = Sequential()\n",
    "myLSTM2.add(Embedding(MAX_NUM_WORDS, 128))\n",
    "myLSTM2.add(LSTM(128, dropout=0.2, recurrent_dropout=0.2, return_sequences=True))\n",
    "myLSTM2.add(LSTM(128, dropout=0.2, recurrent_dropout=0.2, return_sequences=True))\n",
    "myLSTM2.add(LSTM(128, dropout=0.2, recurrent_dropout=0.2))\n",
    "myLSTM2.add(Dense(20, activation='sigmoid'))\n",
    "myLSTM2.add(Dense(6, activation='sigmoid'))\n",
    "myLSTM2.compile(loss='binary_crossentropy', optimizer='adam', metrics=['accuracy'])\n",
    "\n",
    "# Train The Model\n",
    "print('\\nTraining the model...')\n",
    "resultEpochChange = myLSTM2.fit(trainData, yTrain, batch_size=32, epochs=7, validation_data=(valData, yVal))\n",
    "\n",
    "# Check Accuracy on Test\n",
    "score, acc = myLSTM2.evaluate(testData, yTest, batch_size=32)\n",
    "print('\\nTesting Model...')\n",
    "print(f'LSTM predication accuracy on Test Data: {acc:.2f}')"
   ]
  },
  {
   "cell_type": "code",
   "execution_count": null,
   "metadata": {},
   "outputs": [],
   "source": [
    "PlotHistory(resultEpochChange)"
   ]
  },
  {
   "cell_type": "markdown",
   "metadata": {},
   "source": [
    "## 5.2 Change batch size from 32 to 100"
   ]
  },
  {
   "cell_type": "code",
   "execution_count": null,
   "metadata": {},
   "outputs": [],
   "source": [
    "# Create Deep Learning Network\n",
    "myLSTM3 = Sequential()\n",
    "myLSTM3.add(Embedding(MAX_NUM_WORDS, 128))\n",
    "myLSTM3.add(LSTM(128, dropout=0.2, recurrent_dropout=0.2, return_sequences=True))\n",
    "myLSTM3.add(LSTM(128, dropout=0.2, recurrent_dropout=0.2, return_sequences=True))\n",
    "myLSTM3.add(LSTM(128, dropout=0.2, recurrent_dropout=0.2))\n",
    "myLSTM3.add(Dense(20, activation='sigmoid'))\n",
    "myLSTM3.add(Dense(6, activation='sigmoid'))\n",
    "myLSTM3.compile(loss='binary_crossentropy', optimizer='adam', metrics=['accuracy'])\n",
    "\n",
    "# Train The Model\n",
    "print('\\nTraining the model...')\n",
    "resultBatchChange = myLSTM3.fit(trainData, yTrain, batch_size=100, epochs=7, validation_data=(testData, yTest))\n",
    "\n",
    "# Check Accuracy on Test\n",
    "score, acc = myLSTM3.evaluate(testData, yTest, batch_size=32)\n",
    "print('\\nTesting Model...')\n",
    "print(f'LSTM predication accuracy on Test Data: {acc:.2f}')"
   ]
  },
  {
   "cell_type": "code",
   "execution_count": null,
   "metadata": {},
   "outputs": [],
   "source": [
    "PlotHistory(resultBatchChange)"
   ]
  },
  {
   "cell_type": "markdown",
   "metadata": {},
   "source": [
    "# 6 Model Evaluation"
   ]
  },
  {
   "cell_type": "markdown",
   "metadata": {},
   "source": [
    "## 6.1 Use metrics such as precision, recall, F-measure and AUC to evaluate the performance of your models."
   ]
  },
  {
   "cell_type": "code",
   "execution_count": null,
   "metadata": {},
   "outputs": [],
   "source": [
    "def EvalDeepLearningModel(myLSTM, xTest, yTest, labelMap):\n",
    "    # Predict on training data\n",
    "    yPred = myLSTM.predict(xTest)\n",
    "\n",
    "    # Preproces back to class labels\n",
    "    yPredRounded =np.argmax(yPred, axis=1) # Convert from OHE back to single column of integers\n",
    "    yTestRounded = np.argmax(yTest, axis=1) # Convert from OHE back to single column of  integers\n",
    "    yPredString = [labelMapIntAsKey[integerLabel] for integerLabel in yPredRounded] # Convert labels from intergers to strings\n",
    "    yTestString = [labelMapIntAsKey[integerLabel] for integerLabel in yTestRounded] # Convert labels from intergers to strings\n",
    "\n",
    "    # Evaluate Confusion Matrix\n",
    "    cm = metrics.confusion_matrix(yTestString, yPredString)\n",
    "    cmDisp = metrics.ConfusionMatrixDisplay(cm, display_labels=[values for key, values in labelMap.items()])\n",
    "    cmDisp.plot()\n",
    "\n",
    "    # Evaluate Precision, Recall, F1-Score\n",
    "    print(metrics.classification_report(yTestString, yPredString))\n",
    "\n",
    "    # ROC is for binary classification. So we need to use One vs. One and One vs. Rest for multiclass classification.\n",
    "    # Note: ROC for multi-class can be macro or weighted since we need to effectively collapse the ROCs for each label into one metric.\n",
    "    # Good 0.8-0.9. Acceptable 0.7-0.8. Bad < 0.5.\n",
    "    macroAUC_OVO = metrics.roc_auc_score(yTest, yPred, multi_class=\"ovo\", average=\"macro\")\n",
    "    weightedAUC_OVO = metrics.roc_auc_score(yTest, yPred, multi_class=\"ovo\", average=\"weighted\")\n",
    "    print(f'Macro AUC OVO : {macroAUC_OVO:.3f}, Weighted AUC OVO: {weightedAUC_OVO:.3f}')\n",
    "\n",
    "    macroAUC_OVR = metrics.roc_auc_score(yTest, yPred, multi_class=\"ovr\", average=\"macro\")\n",
    "    weightedAUC_OVR = metrics.roc_auc_score(yTest, yPred, multi_class=\"ovr\", average=\"weighted\")\n",
    "    print(f'Macro AUC OVR : {macroAUC_OVR:.3f}, Weighted AUC OVR: {weightedAUC_OVR:.3f}')"
   ]
  },
  {
   "cell_type": "code",
   "execution_count": null,
   "metadata": {},
   "outputs": [],
   "source": [
    "EvalDeepLearningModel(myLSTM1, testData, yTest, labelMapIntAsKey)"
   ]
  },
  {
   "cell_type": "code",
   "execution_count": null,
   "metadata": {},
   "outputs": [],
   "source": [
    "EvalDeepLearningModel(myLSTM2, testData, yTest, labelMapIntAsKey)"
   ]
  },
  {
   "cell_type": "code",
   "execution_count": null,
   "metadata": {},
   "outputs": [],
   "source": [
    "EvalDeepLearningModel(myLSTM3, testData, yTest, labelMapIntAsKey)"
   ]
  },
  {
   "cell_type": "markdown",
   "metadata": {},
   "source": [
    "# 7 Conclusion"
   ]
  }
 ],
 "metadata": {
  "interpreter": {
   "hash": "468819c82e791b0f9a8e64a9b2ca550cabcbea14dfb8d98bf6b8daf534ac0400"
  },
  "kernelspec": {
   "display_name": "Python 3.8.8 ('base')",
   "language": "python",
   "name": "python3"
  },
  "language_info": {
   "codemirror_mode": {
    "name": "ipython",
    "version": 3
   },
   "file_extension": ".py",
   "mimetype": "text/x-python",
   "name": "python",
   "nbconvert_exporter": "python",
   "pygments_lexer": "ipython3",
   "version": "3.8.13"
  },
  "orig_nbformat": 4
 },
 "nbformat": 4,
 "nbformat_minor": 2
}
